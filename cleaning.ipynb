{
 "cells": [
  {
   "cell_type": "code",
   "execution_count": 1,
   "metadata": {},
   "outputs": [
    {
     "name": "stderr",
     "output_type": "stream",
     "text": [
      "/Users/marc/anaconda/lib/python3.6/site-packages/sklearn/cross_validation.py:44: DeprecationWarning: This module was deprecated in version 0.18 in favor of the model_selection module into which all the refactored classes and functions are moved. Also note that the interface of the new CV iterators are different from that of this module. This module will be removed in 0.20.\n",
      "  \"This module will be removed in 0.20.\", DeprecationWarning)\n"
     ]
    }
   ],
   "source": [
    "import pandas as pd\n",
    "import numpy as np\n",
    "import matplotlib.pyplot as plt\n",
    "import seaborn as sns\n",
    "\n",
    "import glob\n",
    "import os\n",
    "\n",
    "from sklearn.cross_validation import train_test_split\n",
    "from sklearn.neighbors import KNeighborsClassifier\n",
    "from sklearn import metrics\n",
    "\n",
    "# from collections import defaultdict\n",
    "\n",
    "path = '/Users/marc/ds/metis/metisgh/hockey/'\n",
    "\n",
    "tables = {}\n",
    "for filename in glob.glob(os.path.join(path, '*.csv')):\n",
    "    table = filename.replace(path,'')\n",
    "    table = table.replace('.csv','')\n",
    "#     print(table,filename)\n",
    "\n",
    "%matplotlib inline"
   ]
  },
  {
   "cell_type": "markdown",
   "metadata": {},
   "source": [
    "### Import Relevant Tables"
   ]
  },
  {
   "cell_type": "code",
   "execution_count": 35,
   "metadata": {},
   "outputs": [],
   "source": [
    "# abbrev = pd.read_csv('/Users/marc/ds/metis/metisgh/hockey/abbrev.csv')\n",
    "# AwardsCoaches = pd.read_csv('/Users/marc/ds/metis/metisgh/hockey/AwardsCoaches.csv')\n",
    "# AwardsMisc = pd.read_csv('/Users/marc/ds/metis/metisgh/hockey/AwardsMisc.csv')\n",
    "AwardsPlayers = pd.read_csv('/Users/marc/ds/metis/metisgh/hockey/AwardsPlayers.csv')\n",
    "# Coaches = pd.read_csv('/Users/marc/ds/metis/metisgh/hockey/Coaches.csv')\n",
    "# Coaches_beta = pd.read_csv('/Users/marc/ds/metis/metisgh/hockey/Coaches_beta.csv')\n",
    "# CombinedShutouts = pd.read_csv('/Users/marc/ds/metis/metisgh/hockey/CombinedShutouts.csv')\n",
    "# Goalies = pd.read_csv('/Users/marc/ds/metis/metisgh/hockey/Goalies.csv')\n",
    "# GoaliesSC = pd.read_csv('/Users/marc/ds/metis/metisgh/hockey/GoaliesSC.csv')\n",
    "# GoaliesShootout = pd.read_csv('/Users/marc/ds/metis/metisgh/hockey/GoaliesShootout.csv')\n",
    "HOF = pd.read_csv('/Users/marc/ds/metis/metisgh/hockey/HOF.csv')\n",
    "Master = pd.read_csv('/Users/marc/ds/metis/metisgh/hockey/Master.csv')\n",
    "Scoring = pd.read_csv('/Users/marc/ds/metis/metisgh/hockey/Scoring.csv')\n",
    "# ScoringSC = pd.read_csv('/Users/marc/ds/metis/metisgh/hockey/ScoringSC.csv')\n",
    "# ScoringShootout = pd.read_csv('/Users/marc/ds/metis/metisgh/hockey/ScoringShootout.csv')\n",
    "# ScoringSup = pd.read_csv('/Users/marc/ds/metis/metisgh/hockey/ScoringSup.csv')\n",
    "SeriesPost = pd.read_csv('/Users/marc/ds/metis/metisgh/hockey/SeriesPost.csv')\n",
    "Teams = pd.read_csv('/Users/marc/ds/metis/metisgh/hockey/Teams.csv')\n",
    "# TeamsHalf = pd.read_csv('/Users/marc/ds/metis/metisgh/hockey/TeamsHalf.csv')\n",
    "# TeamSplits = pd.read_csv('/Users/marc/ds/metis/metisgh/hockey/TeamSplits.csv')\n",
    "# TeamsPost = pd.read_csv('/Users/marc/ds/metis/metisgh/hockey/TeamsPost.csv')\n",
    "TeamsSC = pd.read_csv('/Users/marc/ds/metis/metisgh/hockey/TeamsSC.csv')\n",
    "# TeamVsTeam = pd.read_csv('/Users/marc/ds/metis/metisgh/hockey/TeamVsTeam.csv')"
   ]
  },
  {
   "cell_type": "code",
   "execution_count": 36,
   "metadata": {},
   "outputs": [
    {
     "data": {
      "text/plain": [
       "1909"
      ]
     },
     "execution_count": 36,
     "metadata": {},
     "output_type": "execute_result"
    }
   ],
   "source": [
    "Scoring.year.min()"
   ]
  },
  {
   "cell_type": "code",
   "execution_count": 37,
   "metadata": {},
   "outputs": [],
   "source": [
    "# Add playerID to HOF table\n",
    "HOF['playerID'] = [x[:-1] for x in HOF['hofID']]\n",
    "HOF = HOF[HOF.category=='Player']"
   ]
  },
  {
   "cell_type": "markdown",
   "metadata": {},
   "source": [
    "### Hall of Fame Inductees by Year"
   ]
  },
  {
   "cell_type": "code",
   "execution_count": 38,
   "metadata": {},
   "outputs": [
    {
     "data": {
      "image/png": "[encoded data removed]",
      "text/plain": [
       "<matplotlib.figure.Figure at 0x113f2a198>"
      ]
     },
     "metadata": {},
     "output_type": "display_data"
    }
   ],
   "source": [
    "by_year = HOF.groupby('year')['name'].count().reset_index().sort_values('year')\n",
    "plt.figure(figsize=(14,8))\n",
    "plt.title('Hall of Fame - Player Inductees by Year\\n (1945 - 2011)',fontsize=20)\n",
    "plt.xlabel('Year',fontsize=14)\n",
    "plt.ylabel('Count',fontsize=14)\n",
    "plt.tick_params(axis='both', which='major', labelsize=14)\n",
    "plt.bar(by_year.year,by_year.name);"
   ]
  },
  {
   "cell_type": "markdown",
   "metadata": {},
   "source": [
    "### Add HOF column to Scoring Table"
   ]
  },
  {
   "cell_type": "code",
   "execution_count": 39,
   "metadata": {},
   "outputs": [],
   "source": [
    "Scoring['HOF'] = [1 if x == True else 0 for x in Scoring.playerID.isin(HOF.playerID)]"
   ]
  },
  {
   "cell_type": "markdown",
   "metadata": {},
   "source": [
    "### Fix Plus/Minus column name"
   ]
  },
  {
   "cell_type": "code",
   "execution_count": 40,
   "metadata": {},
   "outputs": [],
   "source": [
    "Scoring.columns = ['playerID', 'year', 'stint', 'tmID', 'lgID', 'pos', 'GP', 'G', 'A',\n",
    "       'Pts', 'PIM', 'plus_min', 'PPG', 'PPA', 'SHG', 'SHA', 'GWG', 'GTG', 'SOG',\n",
    "       'PostGP', 'PostG', 'PostA', 'PostPts', 'PostPIM', 'Postplus_min', 'PostPPG',\n",
    "       'PostPPA', 'PostSHG', 'PostSHA', 'PostGWG', 'PostSOG', 'HOF']"
   ]
  },
  {
   "cell_type": "markdown",
   "metadata": {},
   "source": [
    "### Calculate Playoff Wins column; add to Scoring Table"
   ]
  },
  {
   "cell_type": "code",
   "execution_count": 41,
   "metadata": {
    "scrolled": false
   },
   "outputs": [],
   "source": [
    "serieswins = SeriesPost[['year','round','tmIDWinner']] # series wins by team/year\n",
    "serieswins = serieswins.groupby(['year','tmIDWinner'])['round'].count().reset_index()\n",
    "serieswins.columns = ['year','tmID','series_wins']"
   ]
  },
  {
   "cell_type": "code",
   "execution_count": 42,
   "metadata": {},
   "outputs": [],
   "source": [
    "Scoring = pd.merge(Scoring,serieswins,how='outer')\n",
    "Scoring.series_wins =  Scoring.series_wins.fillna(0)"
   ]
  },
  {
   "cell_type": "markdown",
   "metadata": {},
   "source": [
    "### Add Team Rank and Stanley Cup winners to Scoring Table"
   ]
  },
  {
   "cell_type": "code",
   "execution_count": 43,
   "metadata": {},
   "outputs": [],
   "source": [
    "teamrank = Teams[['tmID','year','rank']]\n",
    "\n",
    "stanley = Teams[['tmID','year','playoff']]\n",
    "stanley = stanley[stanley.playoff == 'SC']\n",
    "stanley['playoff'] = 1\n",
    "stanley.columns = ['tmID', 'year', 'won_cup']\n",
    "\n",
    "Scoring = pd.merge(Scoring,teamrank,how='outer')\n",
    "Scoring = pd.merge(Scoring,stanley,how='outer')\n",
    "\n",
    "Scoring.won_cup = Scoring.won_cup.fillna(0)"
   ]
  },
  {
   "cell_type": "markdown",
   "metadata": {},
   "source": [
    "### Team Percentile Rank by Year"
   ]
  },
  {
   "cell_type": "code",
   "execution_count": 44,
   "metadata": {},
   "outputs": [],
   "source": [
    "ranks = Teams.groupby(['year','lgID'])['rank'].max().reset_index()\n",
    "ranks.columns = ['year','lgID','numteams']\n",
    "Scoring = pd.merge(Scoring,ranks,how='outer')\n",
    "Scoring['team_pct'] = 1-(Scoring['rank']/Scoring.numteams)"
   ]
  },
  {
   "cell_type": "markdown",
   "metadata": {},
   "source": [
    "### Player vs. League - Performance Percentiles by Year"
   ]
  },
  {
   "cell_type": "code",
   "execution_count": 45,
   "metadata": {},
   "outputs": [],
   "source": [
    "Scoring['G_rank'] = Scoring.groupby(['year']).G.rank(pct=True)\n",
    "Scoring['A_rank'] = Scoring.groupby(['year']).A.rank(pct=True)\n",
    "Scoring['Pts_rank'] = Scoring.groupby(['year']).Pts.rank(pct=True)\n",
    "Scoring['Plusmin_rank'] = Scoring.groupby(['year']).plus_min.rank(pct=True)\n",
    "Scoring['SOG_rank'] = Scoring.groupby(['year']).SOG.rank(pct=True)"
   ]
  },
  {
   "cell_type": "markdown",
   "metadata": {},
   "source": [
    "### Player vs. Team - Performance Percentiles by Year"
   ]
  },
  {
   "cell_type": "code",
   "execution_count": 46,
   "metadata": {},
   "outputs": [],
   "source": [
    "Scoring['G_rank_T'] = Scoring.groupby(['year','tmID']).G.rank(pct=True)\n",
    "Scoring['A_rank_T'] = Scoring.groupby(['year','tmID']).A.rank(pct=True)\n",
    "Scoring['Pts_rank_T'] = Scoring.groupby(['year','tmID']).Pts.rank(pct=True)\n",
    "Scoring['Plusmin_rank_T'] = Scoring.groupby(['year','tmID']).plus_min.rank(pct=True)\n",
    "Scoring['SOG_rank_T'] = Scoring.groupby(['year','tmID']).SOG.rank(pct=True)\n",
    "Scoring[Scoring.G_rank_T==1];"
   ]
  },
  {
   "cell_type": "markdown",
   "metadata": {},
   "source": [
    "### Add first & last year to Scoring Table"
   ]
  },
  {
   "cell_type": "code",
   "execution_count": 47,
   "metadata": {},
   "outputs": [],
   "source": [
    "LastYear = pd.DataFrame(Scoring.groupby('playerID')['year'].max().reset_index())\n",
    "LastYear.columns = ['playerID','LastYear'] \n",
    "Scoring = pd.merge(Scoring,LastYear,how='outer')\n",
    "\n",
    "FirstYear = pd.DataFrame(Scoring.groupby('playerID')['year'].min().reset_index())\n",
    "FirstYear.columns = ['playerID','FirstYear'] \n",
    "Scoring = pd.merge(Scoring,FirstYear,how='outer')"
   ]
  },
  {
   "cell_type": "markdown",
   "metadata": {},
   "source": [
    "### Show count of null values by column"
   ]
  },
  {
   "cell_type": "code",
   "execution_count": 48,
   "metadata": {},
   "outputs": [],
   "source": [
    "Scoring.isnull().sum().sort_values(ascending=False);"
   ]
  },
  {
   "cell_type": "markdown",
   "metadata": {},
   "source": [
    "### Drop Postseason Statistics"
   ]
  },
  {
   "cell_type": "code",
   "execution_count": 49,
   "metadata": {},
   "outputs": [
    {
     "data": {
      "text/plain": [
       "Index(['playerID', 'year', 'stint', 'tmID', 'lgID', 'pos', 'GP', 'G', 'A',\n",
       "       'Pts', 'PIM', 'plus_min', 'PPG', 'PPA', 'SHG', 'SHA', 'GWG', 'GTG',\n",
       "       'SOG', 'HOF', 'series_wins', 'rank', 'won_cup', 'numteams', 'team_pct',\n",
       "       'G_rank', 'A_rank', 'Pts_rank', 'Plusmin_rank', 'SOG_rank', 'G_rank_T',\n",
       "       'A_rank_T', 'Pts_rank_T', 'Plusmin_rank_T', 'SOG_rank_T', 'LastYear',\n",
       "       'FirstYear'],\n",
       "      dtype='object')"
      ]
     },
     "execution_count": 49,
     "metadata": {},
     "output_type": "execute_result"
    }
   ],
   "source": [
    "subset = [col for col in Scoring.columns if 'Post' in col]\n",
    "Scoring.drop(subset,axis=1,inplace=True)\n",
    "Scoring.columns"
   ]
  },
  {
   "cell_type": "markdown",
   "metadata": {},
   "source": [
    "### Check nulls again"
   ]
  },
  {
   "cell_type": "code",
   "execution_count": 50,
   "metadata": {},
   "outputs": [],
   "source": [
    "Scoring.isnull().sum().sort_values(ascending=False).head(10);"
   ]
  },
  {
   "cell_type": "markdown",
   "metadata": {},
   "source": [
    "### Fill PPA, SHA, and GTG nulls with zeros"
   ]
  },
  {
   "cell_type": "code",
   "execution_count": 51,
   "metadata": {},
   "outputs": [],
   "source": [
    "Scoring.series_wins = Scoring.series_wins.fillna(0)\n",
    "Scoring.PPA = Scoring.PPA.fillna(0)\n",
    "Scoring.SHA = Scoring.SHA.fillna(0)\n",
    "Scoring.GTG = Scoring.GTG.fillna(0)"
   ]
  },
  {
   "cell_type": "markdown",
   "metadata": {},
   "source": [
    "### Check nulls again"
   ]
  },
  {
   "cell_type": "code",
   "execution_count": 52,
   "metadata": {},
   "outputs": [],
   "source": [
    "Scoring.isnull().sum().sort_values(ascending=False);"
   ]
  },
  {
   "cell_type": "markdown",
   "metadata": {},
   "source": [
    "### Drop NaNs from Pts, PIM, A, G, GP and pos"
   ]
  },
  {
   "cell_type": "code",
   "execution_count": 53,
   "metadata": {},
   "outputs": [],
   "source": [
    "subset=['Pts','PIM','A','G','GP','pos','G_rank_T','A_rank_T','Pts_rank_T','G_rank','A_rank','Pts_rank']\n",
    "Scoring.dropna(axis=0,subset=subset,inplace=True)\n",
    "Scoring.isnull().sum().sort_values(ascending=False);"
   ]
  },
  {
   "cell_type": "markdown",
   "metadata": {},
   "source": [
    "### Linear Regressions to fill in NaNs"
   ]
  },
  {
   "cell_type": "code",
   "execution_count": 54,
   "metadata": {},
   "outputs": [],
   "source": [
    "# Scoring.corr().reset_index();\n",
    "# 'plus_min','SOG','GWG','SHG','PPG'\n",
    "# 'GP', 'G', 'A','Pts','PIM', 'PPA','SHA','GTG','SOG','HOF','LastYear'"
   ]
  },
  {
   "cell_type": "code",
   "execution_count": 55,
   "metadata": {},
   "outputs": [],
   "source": [
    "# y, X = patsy.dmatrices(''' SOG ~ 213.39 +\n",
    "# GP + G + A + Pts + PPA + SHA + GTG + HOF + LastYear + team_pct + series_wins + won_cup + rank\n",
    "# ''', data=Scoring, return_type=\"dataframe\")\n",
    "\n",
    "# # Create model\n",
    "# model = sm.OLS(y, X)\n",
    "# # Fit model to training set\n",
    "# fit = model.fit()\n",
    "# # Print summary statistics of the model's performance\n",
    "# fit.summary()\n",
    "# pred_X = Scoring[['SOG','GP','Pts','G','A','Pts','PPA','SHA','GTG','HOF',\n",
    "#                  'LastYear','team_pct','series_wins','won_cup','rank']]\n",
    "# pred_X = pred_X[pred_X.SOG.isnull()]\n",
    "# nan_X = pred_X.iloc[:,1:]\n",
    "# # new_X = \n",
    "# fit.predict(nan_X)\n",
    "\n",
    "# # pred_X['SOG'] = new_X\n",
    "# # pred_X"
   ]
  },
  {
   "cell_type": "code",
   "execution_count": 56,
   "metadata": {},
   "outputs": [
    {
     "data": {
      "text/plain": [
       "HOF\n",
       "0    0.524091\n",
       "1    0.768335\n",
       "Name: series_wins, dtype: float64"
      ]
     },
     "execution_count": 56,
     "metadata": {},
     "output_type": "execute_result"
    }
   ],
   "source": [
    "Scoring.groupby('HOF')['series_wins'].mean()"
   ]
  },
  {
   "cell_type": "code",
   "execution_count": 57,
   "metadata": {},
   "outputs": [
    {
     "data": {
      "text/plain": [
       "HOF\n",
       "0    0.411137\n",
       "1    0.500912\n",
       "Name: team_pct, dtype: float64"
      ]
     },
     "execution_count": 57,
     "metadata": {},
     "output_type": "execute_result"
    }
   ],
   "source": [
    "Scoring.groupby('HOF')['team_pct'].mean()"
   ]
  },
  {
   "cell_type": "markdown",
   "metadata": {},
   "source": [
    "### Make positions uniform; only keep main position"
   ]
  },
  {
   "cell_type": "code",
   "execution_count": 58,
   "metadata": {},
   "outputs": [
    {
     "data": {
      "text/plain": [
       "array(['C', 'L', 'G', 'R', 'D', 'W', 'F'], dtype=object)"
      ]
     },
     "execution_count": 58,
     "metadata": {},
     "output_type": "execute_result"
    }
   ],
   "source": [
    "Scoring['pos'] = [x[0] for x in Scoring.pos]\n",
    "Scoring.pos.unique()"
   ]
  },
  {
   "cell_type": "code",
   "execution_count": 59,
   "metadata": {},
   "outputs": [],
   "source": [
    "Scoring.pos.replace('C','F',True)\n",
    "Scoring.pos.replace('R','F',True)\n",
    "Scoring.pos.replace('L','F',True)\n",
    "Scoring.pos.replace('W','F',True)\n",
    "Scoring.groupby(['playerID'])['pos'].nunique().reset_index().sort_values('pos',ascending=False);"
   ]
  },
  {
   "cell_type": "code",
   "execution_count": 60,
   "metadata": {},
   "outputs": [],
   "source": [
    "true_pos = Scoring.groupby(['playerID'])['pos'].agg(lambda x:x.value_counts().index[0]).reset_index()\n",
    "true_pos.columns = ['playerID','true_pos']"
   ]
  },
  {
   "cell_type": "code",
   "execution_count": 61,
   "metadata": {},
   "outputs": [],
   "source": [
    "Scoring = pd.merge(Scoring,true_pos,how='outer')"
   ]
  },
  {
   "cell_type": "markdown",
   "metadata": {},
   "source": [
    "### Group by playerID - sum/average"
   ]
  },
  {
   "cell_type": "code",
   "execution_count": 62,
   "metadata": {},
   "outputs": [],
   "source": [
    "summed = Scoring.groupby('playerID')[\n",
    "        'GP', 'G', 'A','Pts', 'PIM', 'plus_min', 'PPG', 'PPA', 'SHG', 'SHA', 'GWG', 'GTG',\n",
    "       'SOG','series_wins','won_cup'].sum().reset_index()\n",
    "\n",
    "averaged = Scoring.groupby('playerID')[\n",
    "        'team_pct','G_rank', 'A_rank', 'Pts_rank', 'Plusmin_rank', 'SOG_rank', 'G_rank_T',\n",
    "       'A_rank_T', 'Pts_rank_T', 'Plusmin_rank_T', 'SOG_rank_T'].mean().reset_index()\n",
    "\n",
    "rest = Scoring[['playerID','true_pos','HOF','FirstYear','LastYear']]\n",
    "\n",
    "summary = pd.merge(summed,averaged,how='outer')"
   ]
  },
  {
   "cell_type": "code",
   "execution_count": 63,
   "metadata": {},
   "outputs": [
    {
     "data": {
      "text/plain": [
       "(7333, 31)"
      ]
     },
     "execution_count": 63,
     "metadata": {},
     "output_type": "execute_result"
    }
   ],
   "source": [
    "summary = pd.merge(summary,rest.drop_duplicates(),how='outer')\n",
    "summary.shape"
   ]
  },
  {
   "cell_type": "markdown",
   "metadata": {},
   "source": [
    "### Create 'awards count' column"
   ]
  },
  {
   "cell_type": "code",
   "execution_count": 64,
   "metadata": {},
   "outputs": [],
   "source": [
    "awards_count = AwardsPlayers.groupby('playerID')['award'].count().reset_index()\n",
    "summary = pd.merge(summary,awards_count,how='outer')\n",
    "summary.rename(index=str, columns={'award': 'award_count'},inplace=True)\n",
    "summary.award_count.fillna(0,inplace=True)"
   ]
  },
  {
   "cell_type": "markdown",
   "metadata": {},
   "source": [
    "## Master table -- clean up"
   ]
  },
  {
   "cell_type": "code",
   "execution_count": 65,
   "metadata": {},
   "outputs": [
    {
     "data": {
      "text/plain": [
       "Index(['playerID', 'coachID', 'hofID', 'firstName', 'lastName', 'nameNote',\n",
       "       'nameGiven', 'nameNick', 'height', 'weight', 'shootCatch', 'legendsID',\n",
       "       'ihdbID', 'hrefID', 'firstNHL', 'lastNHL', 'firstWHA', 'lastWHA', 'pos',\n",
       "       'birthYear', 'birthMon', 'birthDay', 'birthCountry', 'birthState',\n",
       "       'birthCity', 'deathYear', 'deathMon', 'deathDay', 'deathCountry',\n",
       "       'deathState', 'deathCity'],\n",
       "      dtype='object')"
      ]
     },
     "execution_count": 65,
     "metadata": {},
     "output_type": "execute_result"
    }
   ],
   "source": [
    "Master.columns"
   ]
  },
  {
   "cell_type": "code",
   "execution_count": 66,
   "metadata": {},
   "outputs": [
    {
     "data": {
      "text/plain": [
       "L    4604\n",
       "R    2443\n",
       "B       1\n",
       "Name: shootCatch, dtype: int64"
      ]
     },
     "execution_count": 66,
     "metadata": {},
     "output_type": "execute_result"
    }
   ],
   "source": [
    "Master = Master[['playerID', 'firstName', 'lastName','height', 'weight', 'shootCatch', \n",
    "                 'firstNHL', 'lastNHL', 'firstWHA', 'lastWHA',\n",
    "                'birthCountry','birthState','birthCity','birthYear']]\n",
    "Master.shootCatch.value_counts()"
   ]
  },
  {
   "cell_type": "code",
   "execution_count": 67,
   "metadata": {},
   "outputs": [],
   "source": [
    "Master.shootCatch.replace('B','L',True)"
   ]
  },
  {
   "cell_type": "code",
   "execution_count": 68,
   "metadata": {},
   "outputs": [
    {
     "data": {
      "text/plain": [
       "L    4605\n",
       "R    2443\n",
       "Name: shootCatch, dtype: int64"
      ]
     },
     "execution_count": 68,
     "metadata": {},
     "output_type": "execute_result"
    }
   ],
   "source": [
    "Master.shootCatch.value_counts()"
   ]
  },
  {
   "cell_type": "code",
   "execution_count": 69,
   "metadata": {},
   "outputs": [],
   "source": [
    "Master['NHL_Years'] = Master.lastNHL - Master.firstNHL\n",
    "Master.NHL_Years = Master.NHL_Years.fillna(0)\n",
    "Master['WHA_Years'] = Master.lastWHA - Master.firstWHA\n",
    "Master.WHA_Years = Master.WHA_Years.fillna(0)\n",
    "Master['Career_Years'] = Master.NHL_Years + Master.WHA_Years + 1"
   ]
  },
  {
   "cell_type": "code",
   "execution_count": 70,
   "metadata": {},
   "outputs": [],
   "source": [
    "summary = pd.merge(summary,Master,how='inner')"
   ]
  },
  {
   "cell_type": "code",
   "execution_count": 71,
   "metadata": {},
   "outputs": [
    {
     "data": {
      "text/plain": [
       "Series([], Name: HOF, dtype: int64)"
      ]
     },
     "execution_count": 71,
     "metadata": {},
     "output_type": "execute_result"
    }
   ],
   "source": [
    "summary[summary.Career_Years==0].HOF.value_counts() # 14 HOF'ers have no career stats!"
   ]
  },
  {
   "cell_type": "code",
   "execution_count": 72,
   "metadata": {},
   "outputs": [
    {
     "data": {
      "text/plain": [
       "0    7121\n",
       "1     212\n",
       "Name: HOF, dtype: int64"
      ]
     },
     "execution_count": 72,
     "metadata": {},
     "output_type": "execute_result"
    }
   ],
   "source": [
    "summary.HOF.value_counts()"
   ]
  },
  {
   "cell_type": "code",
   "execution_count": 73,
   "metadata": {},
   "outputs": [],
   "source": [
    "summary['name'] = summary.firstName + ' ' + summary.lastName"
   ]
  },
  {
   "cell_type": "code",
   "execution_count": 74,
   "metadata": {},
   "outputs": [],
   "source": [
    "# Hall of Fame by Country\n",
    "hof_country = summary.groupby(['birthCountry'],as_index=False)['HOF'].sum()\n",
    "all_country = summary.groupby(['birthCountry'],as_index=False)['playerID'].count()\n",
    "\n",
    "country = pd.concat([hof_country,all_country.playerID],axis=1)\n",
    "country.columns = ['birthCountry','HOF_ct','player_ct']\n",
    "country = country[['birthCountry','player_ct','HOF_ct']]\n",
    "country['country_pct'] = country['HOF_ct']/country['player_ct']\n",
    "country_chance = country[['birthCountry','country_pct']]\n",
    "country_chance\n",
    "summary = pd.merge(summary,country_chance,how='outer')"
   ]
  },
  {
   "cell_type": "code",
   "execution_count": 75,
   "metadata": {},
   "outputs": [
    {
     "data": {
      "text/plain": [
       "Index(['playerID', 'GP', 'G', 'A', 'Pts', 'PIM', 'plus_min', 'PPG', 'PPA',\n",
       "       'SHG', 'SHA', 'GWG', 'GTG', 'SOG', 'series_wins', 'won_cup', 'team_pct',\n",
       "       'G_rank', 'A_rank', 'Pts_rank', 'Plusmin_rank', 'SOG_rank', 'G_rank_T',\n",
       "       'A_rank_T', 'Pts_rank_T', 'Plusmin_rank_T', 'SOG_rank_T', 'true_pos',\n",
       "       'HOF', 'FirstYear', 'LastYear', 'award_count', 'firstName', 'lastName',\n",
       "       'height', 'weight', 'shootCatch', 'firstNHL', 'lastNHL', 'firstWHA',\n",
       "       'lastWHA', 'birthCountry', 'birthState', 'birthCity', 'birthYear',\n",
       "       'NHL_Years', 'WHA_Years', 'Career_Years', 'name', 'country_pct'],\n",
       "      dtype='object')"
      ]
     },
     "execution_count": 75,
     "metadata": {},
     "output_type": "execute_result"
    }
   ],
   "source": [
    "summary.columns"
   ]
  },
  {
   "cell_type": "code",
   "execution_count": 76,
   "metadata": {},
   "outputs": [],
   "source": [
    "summary['logGP'] = np.log(summary.GP)\n",
    "summary['logCareer_Years'] = np.log(summary.Career_Years)\n",
    "summary.award_count.fillna(0,inplace=True)\n",
    "\n",
    "# create Height/Weight combined indicator\n",
    "# summary['presence'] = summary."
   ]
  },
  {
   "cell_type": "code",
   "execution_count": 77,
   "metadata": {},
   "outputs": [],
   "source": [
    "# reorder & filter columns\n",
    "summary = summary[[\n",
    "        'playerID','name','true_pos','shootCatch',\n",
    "        'birthCountry', 'birthState', 'birthCity', 'birthYear',\n",
    "        'GP','G','A','Pts','PIM','plus_min','PPG','PPA','SHG','SHA','GWG', 'GTG', 'SOG', \n",
    "        'logGP','logCareer_Years',\n",
    "        'award_count','series_wins', 'won_cup', 'team_pct', 'country_pct',\n",
    "        'G_rank','A_rank', 'Pts_rank', 'Plusmin_rank', 'SOG_rank', \n",
    "        'G_rank_T','A_rank_T','Pts_rank_T', 'Plusmin_rank_T', 'SOG_rank_T', \n",
    "        'height', 'weight', \n",
    "        'FirstYear', 'LastYear','Career_Years',\n",
    "        'HOF']]"
   ]
  },
  {
   "cell_type": "markdown",
   "metadata": {},
   "source": [
    "## Remove goalies!"
   ]
  },
  {
   "cell_type": "code",
   "execution_count": 78,
   "metadata": {},
   "outputs": [],
   "source": [
    "summary = summary[summary.true_pos!='G'].reset_index()"
   ]
  },
  {
   "cell_type": "code",
   "execution_count": 79,
   "metadata": {},
   "outputs": [],
   "source": [
    "summary[summary.plus_min.isnull()]; #1389 players with no plus/minus"
   ]
  },
  {
   "cell_type": "markdown",
   "metadata": {},
   "source": [
    "### Binarize F/D --> Forward = 1, Defense = 0"
   ]
  },
  {
   "cell_type": "code",
   "execution_count": 80,
   "metadata": {},
   "outputs": [],
   "source": [
    "summary.true_pos.replace('F',1,True)\n",
    "summary.true_pos.replace('D',0,True)"
   ]
  },
  {
   "cell_type": "code",
   "execution_count": 81,
   "metadata": {},
   "outputs": [
    {
     "data": {
      "text/plain": [
       "0"
      ]
     },
     "execution_count": 81,
     "metadata": {},
     "output_type": "execute_result"
    }
   ],
   "source": [
    "len(summary[summary.Career_Years==0])\n",
    "# 1504 players with no NHL or WHA data!"
   ]
  },
  {
   "cell_type": "code",
   "execution_count": 82,
   "metadata": {},
   "outputs": [
    {
     "data": {
      "text/plain": [
       "0.028464185173600252"
      ]
     },
     "execution_count": 82,
     "metadata": {},
     "output_type": "execute_result"
    }
   ],
   "source": [
    "HOF_split = summary.HOF.value_counts()\n",
    "HOF_split[1]/HOF_split[0] # class ratio HOF/not_HOF"
   ]
  },
  {
   "cell_type": "code",
   "execution_count": 83,
   "metadata": {
    "collapsed": true
   },
   "outputs": [],
   "source": [
    "hockey = summary.copy()"
   ]
  },
  {
   "cell_type": "code",
   "execution_count": 84,
   "metadata": {},
   "outputs": [],
   "source": [
    "### 2013-2014 Players (for Eligibility)\n",
    "Recent = pd.read_csv('/Users/marc/ds/metis/metisgh/hockey/NHLPlayers2013-14.csv')\n",
    "allrecent = hockey[hockey.name.isin(Recent.Names)]\n",
    "allrecent = allrecent[['playerID']]\n",
    "allrecent['recent'] = 1\n",
    "hockey = pd.merge(hockey,allrecent,how='outer')\n",
    "hockey.recent.fillna(0,inplace=True)\n",
    "\n",
    "### New HOF inductees since 2011 -- Holdout \n",
    "HOF2 = pd.read_csv('/Users/marc/ds/metis/metisgh/hockey/HOF2.csv')\n",
    "HOF2 = HOF2[HOF2.Year > 2011] ## Rogie Vachon & Dominik Hasek = Goalies\n",
    "HOF2_names = HOF2.Name\n",
    "new_HOF = hockey[hockey.name.isin(HOF2_names)].copy()\n",
    "new_HOF['new_HOF'] = 1\n",
    "\n",
    "hockey = pd.merge(hockey,new_HOF,how='outer')\n",
    "hockey.new_HOF.fillna(0,inplace=True)\n",
    "\n",
    "## HOF-Eligible Players\n",
    "HOFtable = pd.read_csv('/Users/marc/ds/metis/metisgh/hockey/HOF.csv')\n",
    "HOFtable['playerID'] = [x[:-1] for x in HOFtable['hofID']]\n",
    "HOFtable = HOFtable[HOFtable.category=='Player']\n",
    "HOFtable = HOFtable[['playerID','year']]\n",
    "HOFtable.columns = ['playerID','HOFyear']\n",
    "HOFdelay = pd.merge(hockey[hockey.HOF==1],HOFtable,how='inner')"
   ]
  },
  {
   "cell_type": "code",
   "execution_count": 85,
   "metadata": {
    "collapsed": true
   },
   "outputs": [],
   "source": [
    "hockey.drop('index',inplace=True,axis=1)\n",
    "hockey2 = summary.dropna(axis=0).copy()"
   ]
  },
  {
   "cell_type": "code",
   "execution_count": 86,
   "metadata": {
    "collapsed": true
   },
   "outputs": [],
   "source": [
    "hockey.to_pickle('/Users/marc/ds/metis/metisgh/hockey.csv')\n",
    "hockey2.to_pickle('/Users/marc/ds/metis/metisgh/hockey_filtered.csv')"
   ]
  },
  {
   "cell_type": "markdown",
   "metadata": {},
   "source": [
    "### Visualizations --> Fix references to Summary"
   ]
  },
  {
   "cell_type": "code",
   "execution_count": 87,
   "metadata": {},
   "outputs": [
    {
     "data": {
      "text/html": [
       "<div>\n",
       "<style>\n",
       "    .dataframe thead tr:only-child th {\n",
       "        text-align: right;\n",
       "    }\n",
       "\n",
       "    .dataframe thead th {\n",
       "        text-align: left;\n",
       "    }\n",
       "\n",
       "    .dataframe tbody tr th {\n",
       "        vertical-align: top;\n",
       "    }\n",
       "</style>\n",
       "<table border=\"1\" class=\"dataframe\">\n",
       "  <thead>\n",
       "    <tr style=\"text-align: right;\">\n",
       "      <th></th>\n",
       "      <th>true_pos</th>\n",
       "      <th>birthYear</th>\n",
       "      <th>GP</th>\n",
       "      <th>G</th>\n",
       "      <th>A</th>\n",
       "      <th>Pts</th>\n",
       "      <th>PIM</th>\n",
       "      <th>plus_min</th>\n",
       "      <th>PPG</th>\n",
       "      <th>PPA</th>\n",
       "      <th>...</th>\n",
       "      <th>Plusmin_rank_T</th>\n",
       "      <th>SOG_rank_T</th>\n",
       "      <th>height</th>\n",
       "      <th>weight</th>\n",
       "      <th>FirstYear</th>\n",
       "      <th>LastYear</th>\n",
       "      <th>Career_Years</th>\n",
       "      <th>HOF</th>\n",
       "      <th>recent</th>\n",
       "      <th>new_HOF</th>\n",
       "    </tr>\n",
       "  </thead>\n",
       "  <tbody>\n",
       "    <tr>\n",
       "      <th>true_pos</th>\n",
       "      <td>1.000000</td>\n",
       "      <td>-0.029772</td>\n",
       "      <td>-0.009115</td>\n",
       "      <td>0.220823</td>\n",
       "      <td>0.056970</td>\n",
       "      <td>0.125285</td>\n",
       "      <td>-0.088498</td>\n",
       "      <td>-0.045116</td>\n",
       "      <td>0.155020</td>\n",
       "      <td>-0.010693</td>\n",
       "      <td>...</td>\n",
       "      <td>-0.052727</td>\n",
       "      <td>0.123291</td>\n",
       "      <td>-0.227964</td>\n",
       "      <td>-0.251087</td>\n",
       "      <td>-0.030124</td>\n",
       "      <td>-0.032943</td>\n",
       "      <td>-0.016712</td>\n",
       "      <td>0.012421</td>\n",
       "      <td>-0.007510</td>\n",
       "      <td>-0.000238</td>\n",
       "    </tr>\n",
       "    <tr>\n",
       "      <th>birthYear</th>\n",
       "      <td>-0.029772</td>\n",
       "      <td>1.000000</td>\n",
       "      <td>0.039458</td>\n",
       "      <td>-0.028054</td>\n",
       "      <td>0.021550</td>\n",
       "      <td>0.001808</td>\n",
       "      <td>0.049301</td>\n",
       "      <td>-0.013209</td>\n",
       "      <td>-0.091141</td>\n",
       "      <td>0.182632</td>\n",
       "      <td>...</td>\n",
       "      <td>0.011891</td>\n",
       "      <td>-0.093577</td>\n",
       "      <td>0.487329</td>\n",
       "      <td>0.565027</td>\n",
       "      <td>0.994380</td>\n",
       "      <td>0.981198</td>\n",
       "      <td>0.007225</td>\n",
       "      <td>-0.229915</td>\n",
       "      <td>0.375659</td>\n",
       "      <td>0.023982</td>\n",
       "    </tr>\n",
       "    <tr>\n",
       "      <th>GP</th>\n",
       "      <td>-0.009115</td>\n",
       "      <td>0.039458</td>\n",
       "      <td>1.000000</td>\n",
       "      <td>0.795393</td>\n",
       "      <td>0.873115</td>\n",
       "      <td>0.862555</td>\n",
       "      <td>0.743478</td>\n",
       "      <td>0.242217</td>\n",
       "      <td>0.706018</td>\n",
       "      <td>0.562897</td>\n",
       "      <td>...</td>\n",
       "      <td>0.027245</td>\n",
       "      <td>0.743515</td>\n",
       "      <td>0.084402</td>\n",
       "      <td>0.177938</td>\n",
       "      <td>0.012996</td>\n",
       "      <td>0.198469</td>\n",
       "      <td>0.911501</td>\n",
       "      <td>0.268524</td>\n",
       "      <td>0.044776</td>\n",
       "      <td>0.166179</td>\n",
       "    </tr>\n",
       "    <tr>\n",
       "      <th>G</th>\n",
       "      <td>0.220823</td>\n",
       "      <td>-0.028054</td>\n",
       "      <td>0.795393</td>\n",
       "      <td>1.000000</td>\n",
       "      <td>0.902352</td>\n",
       "      <td>0.964138</td>\n",
       "      <td>0.483552</td>\n",
       "      <td>0.310170</td>\n",
       "      <td>0.932798</td>\n",
       "      <td>0.580146</td>\n",
       "      <td>...</td>\n",
       "      <td>0.075803</td>\n",
       "      <td>0.680628</td>\n",
       "      <td>-0.033361</td>\n",
       "      <td>0.028282</td>\n",
       "      <td>-0.051842</td>\n",
       "      <td>0.092084</td>\n",
       "      <td>0.697042</td>\n",
       "      <td>0.391323</td>\n",
       "      <td>0.023294</td>\n",
       "      <td>0.207078</td>\n",
       "    </tr>\n",
       "    <tr>\n",
       "      <th>A</th>\n",
       "      <td>0.056970</td>\n",
       "      <td>0.021550</td>\n",
       "      <td>0.873115</td>\n",
       "      <td>0.902352</td>\n",
       "      <td>1.000000</td>\n",
       "      <td>0.984380</td>\n",
       "      <td>0.557990</td>\n",
       "      <td>0.391015</td>\n",
       "      <td>0.868599</td>\n",
       "      <td>0.704313</td>\n",
       "      <td>...</td>\n",
       "      <td>0.108452</td>\n",
       "      <td>0.689383</td>\n",
       "      <td>0.013693</td>\n",
       "      <td>0.079991</td>\n",
       "      <td>-0.002616</td>\n",
       "      <td>0.152093</td>\n",
       "      <td>0.763137</td>\n",
       "      <td>0.369534</td>\n",
       "      <td>0.034385</td>\n",
       "      <td>0.242585</td>\n",
       "    </tr>\n",
       "    <tr>\n",
       "      <th>Pts</th>\n",
       "      <td>0.125285</td>\n",
       "      <td>0.001808</td>\n",
       "      <td>0.862555</td>\n",
       "      <td>0.964138</td>\n",
       "      <td>0.984380</td>\n",
       "      <td>1.000000</td>\n",
       "      <td>0.541124</td>\n",
       "      <td>0.367283</td>\n",
       "      <td>0.914758</td>\n",
       "      <td>0.670684</td>\n",
       "      <td>...</td>\n",
       "      <td>0.097716</td>\n",
       "      <td>0.701873</td>\n",
       "      <td>-0.005198</td>\n",
       "      <td>0.060811</td>\n",
       "      <td>-0.022788</td>\n",
       "      <td>0.131271</td>\n",
       "      <td>0.754658</td>\n",
       "      <td>0.387402</td>\n",
       "      <td>0.030689</td>\n",
       "      <td>0.233968</td>\n",
       "    </tr>\n",
       "    <tr>\n",
       "      <th>PIM</th>\n",
       "      <td>-0.088498</td>\n",
       "      <td>0.049301</td>\n",
       "      <td>0.743478</td>\n",
       "      <td>0.483552</td>\n",
       "      <td>0.557990</td>\n",
       "      <td>0.541124</td>\n",
       "      <td>1.000000</td>\n",
       "      <td>0.128904</td>\n",
       "      <td>0.414792</td>\n",
       "      <td>0.334313</td>\n",
       "      <td>...</td>\n",
       "      <td>-0.015828</td>\n",
       "      <td>0.445238</td>\n",
       "      <td>0.158930</td>\n",
       "      <td>0.271717</td>\n",
       "      <td>0.027187</td>\n",
       "      <td>0.168774</td>\n",
       "      <td>0.694552</td>\n",
       "      <td>0.161778</td>\n",
       "      <td>-0.012191</td>\n",
       "      <td>0.111544</td>\n",
       "    </tr>\n",
       "    <tr>\n",
       "      <th>plus_min</th>\n",
       "      <td>-0.045116</td>\n",
       "      <td>-0.013209</td>\n",
       "      <td>0.242217</td>\n",
       "      <td>0.310170</td>\n",
       "      <td>0.391015</td>\n",
       "      <td>0.367283</td>\n",
       "      <td>0.128904</td>\n",
       "      <td>1.000000</td>\n",
       "      <td>0.292705</td>\n",
       "      <td>0.241395</td>\n",
       "      <td>...</td>\n",
       "      <td>0.426802</td>\n",
       "      <td>0.132935</td>\n",
       "      <td>0.018991</td>\n",
       "      <td>0.025546</td>\n",
       "      <td>-0.021394</td>\n",
       "      <td>0.050087</td>\n",
       "      <td>0.190791</td>\n",
       "      <td>0.389698</td>\n",
       "      <td>0.044627</td>\n",
       "      <td>0.135756</td>\n",
       "    </tr>\n",
       "    <tr>\n",
       "      <th>PPG</th>\n",
       "      <td>0.155020</td>\n",
       "      <td>-0.091141</td>\n",
       "      <td>0.706018</td>\n",
       "      <td>0.932798</td>\n",
       "      <td>0.868599</td>\n",
       "      <td>0.914758</td>\n",
       "      <td>0.414792</td>\n",
       "      <td>0.292705</td>\n",
       "      <td>1.000000</td>\n",
       "      <td>0.714591</td>\n",
       "      <td>...</td>\n",
       "      <td>0.079415</td>\n",
       "      <td>0.627472</td>\n",
       "      <td>-0.042613</td>\n",
       "      <td>0.040157</td>\n",
       "      <td>-0.135896</td>\n",
       "      <td>0.088288</td>\n",
       "      <td>0.610407</td>\n",
       "      <td>0.407031</td>\n",
       "      <td>0.029749</td>\n",
       "      <td>0.267418</td>\n",
       "    </tr>\n",
       "    <tr>\n",
       "      <th>PPA</th>\n",
       "      <td>-0.010693</td>\n",
       "      <td>0.182632</td>\n",
       "      <td>0.562897</td>\n",
       "      <td>0.580146</td>\n",
       "      <td>0.704313</td>\n",
       "      <td>0.670684</td>\n",
       "      <td>0.334313</td>\n",
       "      <td>0.241395</td>\n",
       "      <td>0.714591</td>\n",
       "      <td>1.000000</td>\n",
       "      <td>...</td>\n",
       "      <td>0.089375</td>\n",
       "      <td>0.483370</td>\n",
       "      <td>0.090502</td>\n",
       "      <td>0.174680</td>\n",
       "      <td>0.165856</td>\n",
       "      <td>0.261210</td>\n",
       "      <td>0.474155</td>\n",
       "      <td>0.111544</td>\n",
       "      <td>0.143686</td>\n",
       "      <td>0.374736</td>\n",
       "    </tr>\n",
       "    <tr>\n",
       "      <th>SHG</th>\n",
       "      <td>0.175658</td>\n",
       "      <td>-0.089346</td>\n",
       "      <td>0.602515</td>\n",
       "      <td>0.684526</td>\n",
       "      <td>0.663611</td>\n",
       "      <td>0.687457</td>\n",
       "      <td>0.319489</td>\n",
       "      <td>0.299228</td>\n",
       "      <td>0.577653</td>\n",
       "      <td>0.458111</td>\n",
       "      <td>...</td>\n",
       "      <td>0.076433</td>\n",
       "      <td>0.482633</td>\n",
       "      <td>-0.075534</td>\n",
       "      <td>-0.019800</td>\n",
       "      <td>-0.122055</td>\n",
       "      <td>0.071541</td>\n",
       "      <td>0.524625</td>\n",
       "      <td>0.275212</td>\n",
       "      <td>0.005213</td>\n",
       "      <td>0.179123</td>\n",
       "    </tr>\n",
       "    <tr>\n",
       "      <th>SHA</th>\n",
       "      <td>-0.022037</td>\n",
       "      <td>0.187363</td>\n",
       "      <td>0.574628</td>\n",
       "      <td>0.442760</td>\n",
       "      <td>0.552546</td>\n",
       "      <td>0.521109</td>\n",
       "      <td>0.389298</td>\n",
       "      <td>0.244096</td>\n",
       "      <td>0.450921</td>\n",
       "      <td>0.651269</td>\n",
       "      <td>...</td>\n",
       "      <td>0.091451</td>\n",
       "      <td>0.416823</td>\n",
       "      <td>0.126627</td>\n",
       "      <td>0.203610</td>\n",
       "      <td>0.172844</td>\n",
       "      <td>0.272219</td>\n",
       "      <td>0.494153</td>\n",
       "      <td>0.065845</td>\n",
       "      <td>0.110262</td>\n",
       "      <td>0.264083</td>\n",
       "    </tr>\n",
       "    <tr>\n",
       "      <th>GWG</th>\n",
       "      <td>0.217855</td>\n",
       "      <td>-0.063475</td>\n",
       "      <td>0.764137</td>\n",
       "      <td>0.942337</td>\n",
       "      <td>0.857718</td>\n",
       "      <td>0.912345</td>\n",
       "      <td>0.447903</td>\n",
       "      <td>0.343269</td>\n",
       "      <td>0.923741</td>\n",
       "      <td>0.667237</td>\n",
       "      <td>...</td>\n",
       "      <td>0.093073</td>\n",
       "      <td>0.667022</td>\n",
       "      <td>-0.036977</td>\n",
       "      <td>0.047720</td>\n",
       "      <td>-0.106115</td>\n",
       "      <td>0.117293</td>\n",
       "      <td>0.663353</td>\n",
       "      <td>0.328811</td>\n",
       "      <td>0.060201</td>\n",
       "      <td>0.251330</td>\n",
       "    </tr>\n",
       "    <tr>\n",
       "      <th>GTG</th>\n",
       "      <td>0.137943</td>\n",
       "      <td>-0.007452</td>\n",
       "      <td>0.619287</td>\n",
       "      <td>0.766450</td>\n",
       "      <td>0.717652</td>\n",
       "      <td>0.755002</td>\n",
       "      <td>0.385572</td>\n",
       "      <td>0.242092</td>\n",
       "      <td>0.729046</td>\n",
       "      <td>0.334558</td>\n",
       "      <td>...</td>\n",
       "      <td>0.040235</td>\n",
       "      <td>0.500194</td>\n",
       "      <td>-0.007354</td>\n",
       "      <td>0.039388</td>\n",
       "      <td>-0.025136</td>\n",
       "      <td>0.080779</td>\n",
       "      <td>0.526409</td>\n",
       "      <td>0.245519</td>\n",
       "      <td>-0.087995</td>\n",
       "      <td>0.124657</td>\n",
       "    </tr>\n",
       "    <tr>\n",
       "      <th>SOG</th>\n",
       "      <td>0.087767</td>\n",
       "      <td>-0.126917</td>\n",
       "      <td>0.878861</td>\n",
       "      <td>0.905883</td>\n",
       "      <td>0.915757</td>\n",
       "      <td>0.933061</td>\n",
       "      <td>0.573369</td>\n",
       "      <td>0.309158</td>\n",
       "      <td>0.897434</td>\n",
       "      <td>0.713945</td>\n",
       "      <td>...</td>\n",
       "      <td>0.068519</td>\n",
       "      <td>0.754183</td>\n",
       "      <td>-0.023086</td>\n",
       "      <td>0.078811</td>\n",
       "      <td>-0.182633</td>\n",
       "      <td>0.105326</td>\n",
       "      <td>0.771193</td>\n",
       "      <td>0.355551</td>\n",
       "      <td>0.047162</td>\n",
       "      <td>0.247144</td>\n",
       "    </tr>\n",
       "    <tr>\n",
       "      <th>logGP</th>\n",
       "      <td>0.007919</td>\n",
       "      <td>0.016604</td>\n",
       "      <td>0.783794</td>\n",
       "      <td>0.561607</td>\n",
       "      <td>0.603219</td>\n",
       "      <td>0.600860</td>\n",
       "      <td>0.580423</td>\n",
       "      <td>0.071254</td>\n",
       "      <td>0.470291</td>\n",
       "      <td>0.343901</td>\n",
       "      <td>...</td>\n",
       "      <td>-0.107500</td>\n",
       "      <td>0.813673</td>\n",
       "      <td>0.070661</td>\n",
       "      <td>0.153050</td>\n",
       "      <td>-0.001083</td>\n",
       "      <td>0.162502</td>\n",
       "      <td>0.787240</td>\n",
       "      <td>0.169074</td>\n",
       "      <td>0.109260</td>\n",
       "      <td>0.076346</td>\n",
       "    </tr>\n",
       "    <tr>\n",
       "      <th>logCareer_Years</th>\n",
       "      <td>-0.002972</td>\n",
       "      <td>0.049015</td>\n",
       "      <td>0.787945</td>\n",
       "      <td>0.565366</td>\n",
       "      <td>0.614795</td>\n",
       "      <td>0.609524</td>\n",
       "      <td>0.597424</td>\n",
       "      <td>0.095354</td>\n",
       "      <td>0.486041</td>\n",
       "      <td>0.358585</td>\n",
       "      <td>...</td>\n",
       "      <td>-0.049955</td>\n",
       "      <td>0.633402</td>\n",
       "      <td>0.100622</td>\n",
       "      <td>0.195757</td>\n",
       "      <td>0.023295</td>\n",
       "      <td>0.208078</td>\n",
       "      <td>0.919452</td>\n",
       "      <td>0.178490</td>\n",
       "      <td>0.011119</td>\n",
       "      <td>0.086895</td>\n",
       "    </tr>\n",
       "    <tr>\n",
       "      <th>award_count</th>\n",
       "      <td>0.004426</td>\n",
       "      <td>-0.054147</td>\n",
       "      <td>0.358420</td>\n",
       "      <td>0.513072</td>\n",
       "      <td>0.565792</td>\n",
       "      <td>0.557987</td>\n",
       "      <td>0.211598</td>\n",
       "      <td>0.471057</td>\n",
       "      <td>0.479534</td>\n",
       "      <td>0.363170</td>\n",
       "      <td>...</td>\n",
       "      <td>0.138047</td>\n",
       "      <td>0.259410</td>\n",
       "      <td>-0.009860</td>\n",
       "      <td>0.017045</td>\n",
       "      <td>-0.065421</td>\n",
       "      <td>0.001321</td>\n",
       "      <td>0.335086</td>\n",
       "      <td>0.511279</td>\n",
       "      <td>0.021418</td>\n",
       "      <td>0.201303</td>\n",
       "    </tr>\n",
       "    <tr>\n",
       "      <th>series_wins</th>\n",
       "      <td>-0.013867</td>\n",
       "      <td>-0.008959</td>\n",
       "      <td>0.728359</td>\n",
       "      <td>0.596852</td>\n",
       "      <td>0.660573</td>\n",
       "      <td>0.650574</td>\n",
       "      <td>0.573862</td>\n",
       "      <td>0.463803</td>\n",
       "      <td>0.511160</td>\n",
       "      <td>0.395366</td>\n",
       "      <td>...</td>\n",
       "      <td>0.036206</td>\n",
       "      <td>0.454898</td>\n",
       "      <td>0.068426</td>\n",
       "      <td>0.130338</td>\n",
       "      <td>-0.029040</td>\n",
       "      <td>0.115567</td>\n",
       "      <td>0.706593</td>\n",
       "      <td>0.287888</td>\n",
       "      <td>-0.029069</td>\n",
       "      <td>0.145701</td>\n",
       "    </tr>\n",
       "    <tr>\n",
       "      <th>won_cup</th>\n",
       "      <td>-0.000970</td>\n",
       "      <td>-0.194308</td>\n",
       "      <td>0.419087</td>\n",
       "      <td>0.376152</td>\n",
       "      <td>0.388465</td>\n",
       "      <td>0.392863</td>\n",
       "      <td>0.280524</td>\n",
       "      <td>0.396535</td>\n",
       "      <td>0.283468</td>\n",
       "      <td>0.137277</td>\n",
       "      <td>...</td>\n",
       "      <td>0.050741</td>\n",
       "      <td>0.244435</td>\n",
       "      <td>-0.051488</td>\n",
       "      <td>-0.048348</td>\n",
       "      <td>-0.205644</td>\n",
       "      <td>-0.115590</td>\n",
       "      <td>0.431159</td>\n",
       "      <td>0.385531</td>\n",
       "      <td>-0.048744</td>\n",
       "      <td>0.070009</td>\n",
       "    </tr>\n",
       "    <tr>\n",
       "      <th>team_pct</th>\n",
       "      <td>-0.001265</td>\n",
       "      <td>0.025499</td>\n",
       "      <td>0.220214</td>\n",
       "      <td>0.184218</td>\n",
       "      <td>0.202725</td>\n",
       "      <td>0.200085</td>\n",
       "      <td>0.173740</td>\n",
       "      <td>0.282953</td>\n",
       "      <td>0.156419</td>\n",
       "      <td>0.104413</td>\n",
       "      <td>...</td>\n",
       "      <td>-0.217408</td>\n",
       "      <td>0.107827</td>\n",
       "      <td>0.037954</td>\n",
       "      <td>0.048150</td>\n",
       "      <td>0.024686</td>\n",
       "      <td>0.068993</td>\n",
       "      <td>0.218900</td>\n",
       "      <td>0.091311</td>\n",
       "      <td>0.015761</td>\n",
       "      <td>0.040430</td>\n",
       "    </tr>\n",
       "    <tr>\n",
       "      <th>country_pct</th>\n",
       "      <td>0.025009</td>\n",
       "      <td>-0.220203</td>\n",
       "      <td>0.022913</td>\n",
       "      <td>0.027591</td>\n",
       "      <td>0.008780</td>\n",
       "      <td>0.016683</td>\n",
       "      <td>0.059258</td>\n",
       "      <td>0.029298</td>\n",
       "      <td>0.006380</td>\n",
       "      <td>-0.083100</td>\n",
       "      <td>...</td>\n",
       "      <td>-0.001354</td>\n",
       "      <td>-0.031889</td>\n",
       "      <td>-0.116251</td>\n",
       "      <td>-0.129669</td>\n",
       "      <td>-0.232749</td>\n",
       "      <td>-0.218797</td>\n",
       "      <td>0.032071</td>\n",
       "      <td>0.130433</td>\n",
       "      <td>-0.081673</td>\n",
       "      <td>-0.015888</td>\n",
       "    </tr>\n",
       "    <tr>\n",
       "      <th>G_rank</th>\n",
       "      <td>0.300292</td>\n",
       "      <td>-0.022803</td>\n",
       "      <td>0.680587</td>\n",
       "      <td>0.715402</td>\n",
       "      <td>0.653790</td>\n",
       "      <td>0.694824</td>\n",
       "      <td>0.389956</td>\n",
       "      <td>0.155384</td>\n",
       "      <td>0.640662</td>\n",
       "      <td>0.415829</td>\n",
       "      <td>...</td>\n",
       "      <td>-0.007313</td>\n",
       "      <td>0.912880</td>\n",
       "      <td>-0.079508</td>\n",
       "      <td>-0.034491</td>\n",
       "      <td>-0.037653</td>\n",
       "      <td>0.084362</td>\n",
       "      <td>0.576157</td>\n",
       "      <td>0.245465</td>\n",
       "      <td>0.188899</td>\n",
       "      <td>0.100319</td>\n",
       "    </tr>\n",
       "    <tr>\n",
       "      <th>A_rank</th>\n",
       "      <td>0.077478</td>\n",
       "      <td>-0.049924</td>\n",
       "      <td>0.744492</td>\n",
       "      <td>0.674204</td>\n",
       "      <td>0.710420</td>\n",
       "      <td>0.712866</td>\n",
       "      <td>0.451935</td>\n",
       "      <td>0.207065</td>\n",
       "      <td>0.624064</td>\n",
       "      <td>0.465736</td>\n",
       "      <td>...</td>\n",
       "      <td>0.023714</td>\n",
       "      <td>0.929855</td>\n",
       "      <td>-0.049616</td>\n",
       "      <td>-0.003101</td>\n",
       "      <td>-0.065835</td>\n",
       "      <td>0.068294</td>\n",
       "      <td>0.632931</td>\n",
       "      <td>0.268680</td>\n",
       "      <td>0.197600</td>\n",
       "      <td>0.112141</td>\n",
       "    </tr>\n",
       "    <tr>\n",
       "      <th>Pts_rank</th>\n",
       "      <td>0.160817</td>\n",
       "      <td>-0.044176</td>\n",
       "      <td>0.736358</td>\n",
       "      <td>0.701664</td>\n",
       "      <td>0.700547</td>\n",
       "      <td>0.718005</td>\n",
       "      <td>0.439990</td>\n",
       "      <td>0.189738</td>\n",
       "      <td>0.639611</td>\n",
       "      <td>0.453868</td>\n",
       "      <td>...</td>\n",
       "      <td>0.011196</td>\n",
       "      <td>0.945738</td>\n",
       "      <td>-0.063912</td>\n",
       "      <td>-0.015538</td>\n",
       "      <td>-0.058996</td>\n",
       "      <td>0.073727</td>\n",
       "      <td>0.626236</td>\n",
       "      <td>0.266715</td>\n",
       "      <td>0.198002</td>\n",
       "      <td>0.109092</td>\n",
       "    </tr>\n",
       "    <tr>\n",
       "      <th>Plusmin_rank</th>\n",
       "      <td>-0.051640</td>\n",
       "      <td>0.052948</td>\n",
       "      <td>0.200194</td>\n",
       "      <td>0.215861</td>\n",
       "      <td>0.257135</td>\n",
       "      <td>0.246359</td>\n",
       "      <td>0.118058</td>\n",
       "      <td>0.624267</td>\n",
       "      <td>0.193947</td>\n",
       "      <td>0.170003</td>\n",
       "      <td>...</td>\n",
       "      <td>0.662556</td>\n",
       "      <td>0.056252</td>\n",
       "      <td>0.024748</td>\n",
       "      <td>0.032500</td>\n",
       "      <td>0.043093</td>\n",
       "      <td>0.109604</td>\n",
       "      <td>0.171697</td>\n",
       "      <td>0.155292</td>\n",
       "      <td>0.098165</td>\n",
       "      <td>0.071305</td>\n",
       "    </tr>\n",
       "    <tr>\n",
       "      <th>SOG_rank</th>\n",
       "      <td>0.121094</td>\n",
       "      <td>-0.089817</td>\n",
       "      <td>0.765071</td>\n",
       "      <td>0.694858</td>\n",
       "      <td>0.707043</td>\n",
       "      <td>0.718550</td>\n",
       "      <td>0.462947</td>\n",
       "      <td>0.168851</td>\n",
       "      <td>0.638423</td>\n",
       "      <td>0.492200</td>\n",
       "      <td>...</td>\n",
       "      <td>-0.033835</td>\n",
       "      <td>0.984253</td>\n",
       "      <td>-0.064540</td>\n",
       "      <td>0.013470</td>\n",
       "      <td>-0.130875</td>\n",
       "      <td>0.113017</td>\n",
       "      <td>0.645248</td>\n",
       "      <td>0.205859</td>\n",
       "      <td>0.222864</td>\n",
       "      <td>0.117033</td>\n",
       "    </tr>\n",
       "    <tr>\n",
       "      <th>G_rank_T</th>\n",
       "      <td>0.311278</td>\n",
       "      <td>-0.041562</td>\n",
       "      <td>0.647322</td>\n",
       "      <td>0.694845</td>\n",
       "      <td>0.627050</td>\n",
       "      <td>0.669961</td>\n",
       "      <td>0.362866</td>\n",
       "      <td>0.119233</td>\n",
       "      <td>0.628783</td>\n",
       "      <td>0.401929</td>\n",
       "      <td>...</td>\n",
       "      <td>0.000768</td>\n",
       "      <td>0.915657</td>\n",
       "      <td>-0.094123</td>\n",
       "      <td>-0.051781</td>\n",
       "      <td>-0.055567</td>\n",
       "      <td>0.059682</td>\n",
       "      <td>0.544061</td>\n",
       "      <td>0.234876</td>\n",
       "      <td>0.176409</td>\n",
       "      <td>0.096438</td>\n",
       "    </tr>\n",
       "    <tr>\n",
       "      <th>A_rank_T</th>\n",
       "      <td>0.081852</td>\n",
       "      <td>-0.064734</td>\n",
       "      <td>0.713650</td>\n",
       "      <td>0.652975</td>\n",
       "      <td>0.687106</td>\n",
       "      <td>0.689839</td>\n",
       "      <td>0.425133</td>\n",
       "      <td>0.163953</td>\n",
       "      <td>0.611922</td>\n",
       "      <td>0.455880</td>\n",
       "      <td>...</td>\n",
       "      <td>0.024313</td>\n",
       "      <td>0.937832</td>\n",
       "      <td>-0.059969</td>\n",
       "      <td>-0.017023</td>\n",
       "      <td>-0.079914</td>\n",
       "      <td>0.047902</td>\n",
       "      <td>0.603968</td>\n",
       "      <td>0.258898</td>\n",
       "      <td>0.187034</td>\n",
       "      <td>0.109138</td>\n",
       "    </tr>\n",
       "    <tr>\n",
       "      <th>Pts_rank_T</th>\n",
       "      <td>0.169184</td>\n",
       "      <td>-0.061021</td>\n",
       "      <td>0.704193</td>\n",
       "      <td>0.681689</td>\n",
       "      <td>0.675818</td>\n",
       "      <td>0.694617</td>\n",
       "      <td>0.412243</td>\n",
       "      <td>0.148230</td>\n",
       "      <td>0.629343</td>\n",
       "      <td>0.442436</td>\n",
       "      <td>...</td>\n",
       "      <td>0.012027</td>\n",
       "      <td>0.954622</td>\n",
       "      <td>-0.077502</td>\n",
       "      <td>-0.032211</td>\n",
       "      <td>-0.075199</td>\n",
       "      <td>0.051108</td>\n",
       "      <td>0.596207</td>\n",
       "      <td>0.256117</td>\n",
       "      <td>0.186889</td>\n",
       "      <td>0.105337</td>\n",
       "    </tr>\n",
       "    <tr>\n",
       "      <th>Plusmin_rank_T</th>\n",
       "      <td>-0.052727</td>\n",
       "      <td>0.011891</td>\n",
       "      <td>0.027245</td>\n",
       "      <td>0.075803</td>\n",
       "      <td>0.108452</td>\n",
       "      <td>0.097716</td>\n",
       "      <td>-0.015828</td>\n",
       "      <td>0.426802</td>\n",
       "      <td>0.079415</td>\n",
       "      <td>0.089375</td>\n",
       "      <td>...</td>\n",
       "      <td>1.000000</td>\n",
       "      <td>-0.043352</td>\n",
       "      <td>-0.003819</td>\n",
       "      <td>-0.014609</td>\n",
       "      <td>0.013315</td>\n",
       "      <td>0.014784</td>\n",
       "      <td>0.006504</td>\n",
       "      <td>0.087984</td>\n",
       "      <td>0.033804</td>\n",
       "      <td>0.046712</td>\n",
       "    </tr>\n",
       "    <tr>\n",
       "      <th>SOG_rank_T</th>\n",
       "      <td>0.123291</td>\n",
       "      <td>-0.093577</td>\n",
       "      <td>0.743515</td>\n",
       "      <td>0.680628</td>\n",
       "      <td>0.689383</td>\n",
       "      <td>0.701873</td>\n",
       "      <td>0.445238</td>\n",
       "      <td>0.132935</td>\n",
       "      <td>0.627472</td>\n",
       "      <td>0.483370</td>\n",
       "      <td>...</td>\n",
       "      <td>-0.043352</td>\n",
       "      <td>1.000000</td>\n",
       "      <td>-0.067954</td>\n",
       "      <td>0.007734</td>\n",
       "      <td>-0.134383</td>\n",
       "      <td>0.102308</td>\n",
       "      <td>0.627112</td>\n",
       "      <td>0.196124</td>\n",
       "      <td>0.217228</td>\n",
       "      <td>0.112928</td>\n",
       "    </tr>\n",
       "    <tr>\n",
       "      <th>height</th>\n",
       "      <td>-0.227964</td>\n",
       "      <td>0.487329</td>\n",
       "      <td>0.084402</td>\n",
       "      <td>-0.033361</td>\n",
       "      <td>0.013693</td>\n",
       "      <td>-0.005198</td>\n",
       "      <td>0.158930</td>\n",
       "      <td>0.018991</td>\n",
       "      <td>-0.042613</td>\n",
       "      <td>0.090502</td>\n",
       "      <td>...</td>\n",
       "      <td>-0.003819</td>\n",
       "      <td>-0.067954</td>\n",
       "      <td>1.000000</td>\n",
       "      <td>0.762169</td>\n",
       "      <td>0.482516</td>\n",
       "      <td>0.493044</td>\n",
       "      <td>0.081834</td>\n",
       "      <td>-0.081430</td>\n",
       "      <td>0.155799</td>\n",
       "      <td>0.030757</td>\n",
       "    </tr>\n",
       "    <tr>\n",
       "      <th>weight</th>\n",
       "      <td>-0.251087</td>\n",
       "      <td>0.565027</td>\n",
       "      <td>0.177938</td>\n",
       "      <td>0.028282</td>\n",
       "      <td>0.079991</td>\n",
       "      <td>0.060811</td>\n",
       "      <td>0.271717</td>\n",
       "      <td>0.025546</td>\n",
       "      <td>0.040157</td>\n",
       "      <td>0.174680</td>\n",
       "      <td>...</td>\n",
       "      <td>-0.014609</td>\n",
       "      <td>0.007734</td>\n",
       "      <td>0.762169</td>\n",
       "      <td>1.000000</td>\n",
       "      <td>0.562570</td>\n",
       "      <td>0.593247</td>\n",
       "      <td>0.179642</td>\n",
       "      <td>-0.082981</td>\n",
       "      <td>0.166496</td>\n",
       "      <td>0.040263</td>\n",
       "    </tr>\n",
       "    <tr>\n",
       "      <th>FirstYear</th>\n",
       "      <td>-0.030124</td>\n",
       "      <td>0.994380</td>\n",
       "      <td>0.012996</td>\n",
       "      <td>-0.051842</td>\n",
       "      <td>-0.002616</td>\n",
       "      <td>-0.022788</td>\n",
       "      <td>0.027187</td>\n",
       "      <td>-0.021394</td>\n",
       "      <td>-0.135896</td>\n",
       "      <td>0.165856</td>\n",
       "      <td>...</td>\n",
       "      <td>0.013315</td>\n",
       "      <td>-0.134383</td>\n",
       "      <td>0.482516</td>\n",
       "      <td>0.562570</td>\n",
       "      <td>1.000000</td>\n",
       "      <td>0.978660</td>\n",
       "      <td>-0.023059</td>\n",
       "      <td>-0.235234</td>\n",
       "      <td>0.367143</td>\n",
       "      <td>0.021305</td>\n",
       "    </tr>\n",
       "    <tr>\n",
       "      <th>LastYear</th>\n",
       "      <td>-0.032943</td>\n",
       "      <td>0.981198</td>\n",
       "      <td>0.198469</td>\n",
       "      <td>0.092084</td>\n",
       "      <td>0.152093</td>\n",
       "      <td>0.131271</td>\n",
       "      <td>0.168774</td>\n",
       "      <td>0.050087</td>\n",
       "      <td>0.088288</td>\n",
       "      <td>0.261210</td>\n",
       "      <td>...</td>\n",
       "      <td>0.014784</td>\n",
       "      <td>0.102308</td>\n",
       "      <td>0.493044</td>\n",
       "      <td>0.593247</td>\n",
       "      <td>0.978660</td>\n",
       "      <td>1.000000</td>\n",
       "      <td>0.177896</td>\n",
       "      <td>-0.170381</td>\n",
       "      <td>0.357901</td>\n",
       "      <td>0.049855</td>\n",
       "    </tr>\n",
       "    <tr>\n",
       "      <th>Career_Years</th>\n",
       "      <td>-0.016712</td>\n",
       "      <td>0.007225</td>\n",
       "      <td>0.911501</td>\n",
       "      <td>0.697042</td>\n",
       "      <td>0.763137</td>\n",
       "      <td>0.754658</td>\n",
       "      <td>0.694552</td>\n",
       "      <td>0.190791</td>\n",
       "      <td>0.610407</td>\n",
       "      <td>0.474155</td>\n",
       "      <td>...</td>\n",
       "      <td>0.006504</td>\n",
       "      <td>0.627112</td>\n",
       "      <td>0.081834</td>\n",
       "      <td>0.179642</td>\n",
       "      <td>-0.023059</td>\n",
       "      <td>0.177896</td>\n",
       "      <td>1.000000</td>\n",
       "      <td>0.264231</td>\n",
       "      <td>-0.030288</td>\n",
       "      <td>0.140859</td>\n",
       "    </tr>\n",
       "    <tr>\n",
       "      <th>HOF</th>\n",
       "      <td>0.012421</td>\n",
       "      <td>-0.229915</td>\n",
       "      <td>0.268524</td>\n",
       "      <td>0.391323</td>\n",
       "      <td>0.369534</td>\n",
       "      <td>0.387402</td>\n",
       "      <td>0.161778</td>\n",
       "      <td>0.389698</td>\n",
       "      <td>0.407031</td>\n",
       "      <td>0.111544</td>\n",
       "      <td>...</td>\n",
       "      <td>0.087984</td>\n",
       "      <td>0.196124</td>\n",
       "      <td>-0.081430</td>\n",
       "      <td>-0.082981</td>\n",
       "      <td>-0.235234</td>\n",
       "      <td>-0.170381</td>\n",
       "      <td>0.264231</td>\n",
       "      <td>1.000000</td>\n",
       "      <td>-0.056114</td>\n",
       "      <td>-0.009549</td>\n",
       "    </tr>\n",
       "    <tr>\n",
       "      <th>recent</th>\n",
       "      <td>-0.007510</td>\n",
       "      <td>0.375659</td>\n",
       "      <td>0.044776</td>\n",
       "      <td>0.023294</td>\n",
       "      <td>0.034385</td>\n",
       "      <td>0.030689</td>\n",
       "      <td>-0.012191</td>\n",
       "      <td>0.044627</td>\n",
       "      <td>0.029749</td>\n",
       "      <td>0.143686</td>\n",
       "      <td>...</td>\n",
       "      <td>0.033804</td>\n",
       "      <td>0.217228</td>\n",
       "      <td>0.155799</td>\n",
       "      <td>0.166496</td>\n",
       "      <td>0.367143</td>\n",
       "      <td>0.357901</td>\n",
       "      <td>-0.030288</td>\n",
       "      <td>-0.056114</td>\n",
       "      <td>1.000000</td>\n",
       "      <td>-0.009825</td>\n",
       "    </tr>\n",
       "    <tr>\n",
       "      <th>new_HOF</th>\n",
       "      <td>-0.000238</td>\n",
       "      <td>0.023982</td>\n",
       "      <td>0.166179</td>\n",
       "      <td>0.207078</td>\n",
       "      <td>0.242585</td>\n",
       "      <td>0.233968</td>\n",
       "      <td>0.111544</td>\n",
       "      <td>0.135756</td>\n",
       "      <td>0.267418</td>\n",
       "      <td>0.374736</td>\n",
       "      <td>...</td>\n",
       "      <td>0.046712</td>\n",
       "      <td>0.112928</td>\n",
       "      <td>0.030757</td>\n",
       "      <td>0.040263</td>\n",
       "      <td>0.021305</td>\n",
       "      <td>0.049855</td>\n",
       "      <td>0.140859</td>\n",
       "      <td>-0.009549</td>\n",
       "      <td>-0.009825</td>\n",
       "      <td>1.000000</td>\n",
       "    </tr>\n",
       "  </tbody>\n",
       "</table>\n",
       "<p>40 rows × 40 columns</p>\n",
       "</div>"
      ],
      "text/plain": [
       "                 true_pos  birthYear        GP         G         A       Pts  \\\n",
       "true_pos         1.000000  -0.029772 -0.009115  0.220823  0.056970  0.125285   \n",
       "birthYear       -0.029772   1.000000  0.039458 -0.028054  0.021550  0.001808   \n",
       "GP              -0.009115   0.039458  1.000000  0.795393  0.873115  0.862555   \n",
       "G                0.220823  -0.028054  0.795393  1.000000  0.902352  0.964138   \n",
       "A                0.056970   0.021550  0.873115  0.902352  1.000000  0.984380   \n",
       "Pts              0.125285   0.001808  0.862555  0.964138  0.984380  1.000000   \n",
       "PIM             -0.088498   0.049301  0.743478  0.483552  0.557990  0.541124   \n",
       "plus_min        -0.045116  -0.013209  0.242217  0.310170  0.391015  0.367283   \n",
       "PPG              0.155020  -0.091141  0.706018  0.932798  0.868599  0.914758   \n",
       "PPA             -0.010693   0.182632  0.562897  0.580146  0.704313  0.670684   \n",
       "SHG              0.175658  -0.089346  0.602515  0.684526  0.663611  0.687457   \n",
       "SHA             -0.022037   0.187363  0.574628  0.442760  0.552546  0.521109   \n",
       "GWG              0.217855  -0.063475  0.764137  0.942337  0.857718  0.912345   \n",
       "GTG              0.137943  -0.007452  0.619287  0.766450  0.717652  0.755002   \n",
       "SOG              0.087767  -0.126917  0.878861  0.905883  0.915757  0.933061   \n",
       "logGP            0.007919   0.016604  0.783794  0.561607  0.603219  0.600860   \n",
       "logCareer_Years -0.002972   0.049015  0.787945  0.565366  0.614795  0.609524   \n",
       "award_count      0.004426  -0.054147  0.358420  0.513072  0.565792  0.557987   \n",
       "series_wins     -0.013867  -0.008959  0.728359  0.596852  0.660573  0.650574   \n",
       "won_cup         -0.000970  -0.194308  0.419087  0.376152  0.388465  0.392863   \n",
       "team_pct        -0.001265   0.025499  0.220214  0.184218  0.202725  0.200085   \n",
       "country_pct      0.025009  -0.220203  0.022913  0.027591  0.008780  0.016683   \n",
       "G_rank           0.300292  -0.022803  0.680587  0.715402  0.653790  0.694824   \n",
       "A_rank           0.077478  -0.049924  0.744492  0.674204  0.710420  0.712866   \n",
       "Pts_rank         0.160817  -0.044176  0.736358  0.701664  0.700547  0.718005   \n",
       "Plusmin_rank    -0.051640   0.052948  0.200194  0.215861  0.257135  0.246359   \n",
       "SOG_rank         0.121094  -0.089817  0.765071  0.694858  0.707043  0.718550   \n",
       "G_rank_T         0.311278  -0.041562  0.647322  0.694845  0.627050  0.669961   \n",
       "A_rank_T         0.081852  -0.064734  0.713650  0.652975  0.687106  0.689839   \n",
       "Pts_rank_T       0.169184  -0.061021  0.704193  0.681689  0.675818  0.694617   \n",
       "Plusmin_rank_T  -0.052727   0.011891  0.027245  0.075803  0.108452  0.097716   \n",
       "SOG_rank_T       0.123291  -0.093577  0.743515  0.680628  0.689383  0.701873   \n",
       "height          -0.227964   0.487329  0.084402 -0.033361  0.013693 -0.005198   \n",
       "weight          -0.251087   0.565027  0.177938  0.028282  0.079991  0.060811   \n",
       "FirstYear       -0.030124   0.994380  0.012996 -0.051842 -0.002616 -0.022788   \n",
       "LastYear        -0.032943   0.981198  0.198469  0.092084  0.152093  0.131271   \n",
       "Career_Years    -0.016712   0.007225  0.911501  0.697042  0.763137  0.754658   \n",
       "HOF              0.012421  -0.229915  0.268524  0.391323  0.369534  0.387402   \n",
       "recent          -0.007510   0.375659  0.044776  0.023294  0.034385  0.030689   \n",
       "new_HOF         -0.000238   0.023982  0.166179  0.207078  0.242585  0.233968   \n",
       "\n",
       "                      PIM  plus_min       PPG       PPA    ...     \\\n",
       "true_pos        -0.088498 -0.045116  0.155020 -0.010693    ...      \n",
       "birthYear        0.049301 -0.013209 -0.091141  0.182632    ...      \n",
       "GP               0.743478  0.242217  0.706018  0.562897    ...      \n",
       "G                0.483552  0.310170  0.932798  0.580146    ...      \n",
       "A                0.557990  0.391015  0.868599  0.704313    ...      \n",
       "Pts              0.541124  0.367283  0.914758  0.670684    ...      \n",
       "PIM              1.000000  0.128904  0.414792  0.334313    ...      \n",
       "plus_min         0.128904  1.000000  0.292705  0.241395    ...      \n",
       "PPG              0.414792  0.292705  1.000000  0.714591    ...      \n",
       "PPA              0.334313  0.241395  0.714591  1.000000    ...      \n",
       "SHG              0.319489  0.299228  0.577653  0.458111    ...      \n",
       "SHA              0.389298  0.244096  0.450921  0.651269    ...      \n",
       "GWG              0.447903  0.343269  0.923741  0.667237    ...      \n",
       "GTG              0.385572  0.242092  0.729046  0.334558    ...      \n",
       "SOG              0.573369  0.309158  0.897434  0.713945    ...      \n",
       "logGP            0.580423  0.071254  0.470291  0.343901    ...      \n",
       "logCareer_Years  0.597424  0.095354  0.486041  0.358585    ...      \n",
       "award_count      0.211598  0.471057  0.479534  0.363170    ...      \n",
       "series_wins      0.573862  0.463803  0.511160  0.395366    ...      \n",
       "won_cup          0.280524  0.396535  0.283468  0.137277    ...      \n",
       "team_pct         0.173740  0.282953  0.156419  0.104413    ...      \n",
       "country_pct      0.059258  0.029298  0.006380 -0.083100    ...      \n",
       "G_rank           0.389956  0.155384  0.640662  0.415829    ...      \n",
       "A_rank           0.451935  0.207065  0.624064  0.465736    ...      \n",
       "Pts_rank         0.439990  0.189738  0.639611  0.453868    ...      \n",
       "Plusmin_rank     0.118058  0.624267  0.193947  0.170003    ...      \n",
       "SOG_rank         0.462947  0.168851  0.638423  0.492200    ...      \n",
       "G_rank_T         0.362866  0.119233  0.628783  0.401929    ...      \n",
       "A_rank_T         0.425133  0.163953  0.611922  0.455880    ...      \n",
       "Pts_rank_T       0.412243  0.148230  0.629343  0.442436    ...      \n",
       "Plusmin_rank_T  -0.015828  0.426802  0.079415  0.089375    ...      \n",
       "SOG_rank_T       0.445238  0.132935  0.627472  0.483370    ...      \n",
       "height           0.158930  0.018991 -0.042613  0.090502    ...      \n",
       "weight           0.271717  0.025546  0.040157  0.174680    ...      \n",
       "FirstYear        0.027187 -0.021394 -0.135896  0.165856    ...      \n",
       "LastYear         0.168774  0.050087  0.088288  0.261210    ...      \n",
       "Career_Years     0.694552  0.190791  0.610407  0.474155    ...      \n",
       "HOF              0.161778  0.389698  0.407031  0.111544    ...      \n",
       "recent          -0.012191  0.044627  0.029749  0.143686    ...      \n",
       "new_HOF          0.111544  0.135756  0.267418  0.374736    ...      \n",
       "\n",
       "                 Plusmin_rank_T  SOG_rank_T    height    weight  FirstYear  \\\n",
       "true_pos              -0.052727    0.123291 -0.227964 -0.251087  -0.030124   \n",
       "birthYear              0.011891   -0.093577  0.487329  0.565027   0.994380   \n",
       "GP                     0.027245    0.743515  0.084402  0.177938   0.012996   \n",
       "G                      0.075803    0.680628 -0.033361  0.028282  -0.051842   \n",
       "A                      0.108452    0.689383  0.013693  0.079991  -0.002616   \n",
       "Pts                    0.097716    0.701873 -0.005198  0.060811  -0.022788   \n",
       "PIM                   -0.015828    0.445238  0.158930  0.271717   0.027187   \n",
       "plus_min               0.426802    0.132935  0.018991  0.025546  -0.021394   \n",
       "PPG                    0.079415    0.627472 -0.042613  0.040157  -0.135896   \n",
       "PPA                    0.089375    0.483370  0.090502  0.174680   0.165856   \n",
       "SHG                    0.076433    0.482633 -0.075534 -0.019800  -0.122055   \n",
       "SHA                    0.091451    0.416823  0.126627  0.203610   0.172844   \n",
       "GWG                    0.093073    0.667022 -0.036977  0.047720  -0.106115   \n",
       "GTG                    0.040235    0.500194 -0.007354  0.039388  -0.025136   \n",
       "SOG                    0.068519    0.754183 -0.023086  0.078811  -0.182633   \n",
       "logGP                 -0.107500    0.813673  0.070661  0.153050  -0.001083   \n",
       "logCareer_Years       -0.049955    0.633402  0.100622  0.195757   0.023295   \n",
       "award_count            0.138047    0.259410 -0.009860  0.017045  -0.065421   \n",
       "series_wins            0.036206    0.454898  0.068426  0.130338  -0.029040   \n",
       "won_cup                0.050741    0.244435 -0.051488 -0.048348  -0.205644   \n",
       "team_pct              -0.217408    0.107827  0.037954  0.048150   0.024686   \n",
       "country_pct           -0.001354   -0.031889 -0.116251 -0.129669  -0.232749   \n",
       "G_rank                -0.007313    0.912880 -0.079508 -0.034491  -0.037653   \n",
       "A_rank                 0.023714    0.929855 -0.049616 -0.003101  -0.065835   \n",
       "Pts_rank               0.011196    0.945738 -0.063912 -0.015538  -0.058996   \n",
       "Plusmin_rank           0.662556    0.056252  0.024748  0.032500   0.043093   \n",
       "SOG_rank              -0.033835    0.984253 -0.064540  0.013470  -0.130875   \n",
       "G_rank_T               0.000768    0.915657 -0.094123 -0.051781  -0.055567   \n",
       "A_rank_T               0.024313    0.937832 -0.059969 -0.017023  -0.079914   \n",
       "Pts_rank_T             0.012027    0.954622 -0.077502 -0.032211  -0.075199   \n",
       "Plusmin_rank_T         1.000000   -0.043352 -0.003819 -0.014609   0.013315   \n",
       "SOG_rank_T            -0.043352    1.000000 -0.067954  0.007734  -0.134383   \n",
       "height                -0.003819   -0.067954  1.000000  0.762169   0.482516   \n",
       "weight                -0.014609    0.007734  0.762169  1.000000   0.562570   \n",
       "FirstYear              0.013315   -0.134383  0.482516  0.562570   1.000000   \n",
       "LastYear               0.014784    0.102308  0.493044  0.593247   0.978660   \n",
       "Career_Years           0.006504    0.627112  0.081834  0.179642  -0.023059   \n",
       "HOF                    0.087984    0.196124 -0.081430 -0.082981  -0.235234   \n",
       "recent                 0.033804    0.217228  0.155799  0.166496   0.367143   \n",
       "new_HOF                0.046712    0.112928  0.030757  0.040263   0.021305   \n",
       "\n",
       "                 LastYear  Career_Years       HOF    recent   new_HOF  \n",
       "true_pos        -0.032943     -0.016712  0.012421 -0.007510 -0.000238  \n",
       "birthYear        0.981198      0.007225 -0.229915  0.375659  0.023982  \n",
       "GP               0.198469      0.911501  0.268524  0.044776  0.166179  \n",
       "G                0.092084      0.697042  0.391323  0.023294  0.207078  \n",
       "A                0.152093      0.763137  0.369534  0.034385  0.242585  \n",
       "Pts              0.131271      0.754658  0.387402  0.030689  0.233968  \n",
       "PIM              0.168774      0.694552  0.161778 -0.012191  0.111544  \n",
       "plus_min         0.050087      0.190791  0.389698  0.044627  0.135756  \n",
       "PPG              0.088288      0.610407  0.407031  0.029749  0.267418  \n",
       "PPA              0.261210      0.474155  0.111544  0.143686  0.374736  \n",
       "SHG              0.071541      0.524625  0.275212  0.005213  0.179123  \n",
       "SHA              0.272219      0.494153  0.065845  0.110262  0.264083  \n",
       "GWG              0.117293      0.663353  0.328811  0.060201  0.251330  \n",
       "GTG              0.080779      0.526409  0.245519 -0.087995  0.124657  \n",
       "SOG              0.105326      0.771193  0.355551  0.047162  0.247144  \n",
       "logGP            0.162502      0.787240  0.169074  0.109260  0.076346  \n",
       "logCareer_Years  0.208078      0.919452  0.178490  0.011119  0.086895  \n",
       "award_count      0.001321      0.335086  0.511279  0.021418  0.201303  \n",
       "series_wins      0.115567      0.706593  0.287888 -0.029069  0.145701  \n",
       "won_cup         -0.115590      0.431159  0.385531 -0.048744  0.070009  \n",
       "team_pct         0.068993      0.218900  0.091311  0.015761  0.040430  \n",
       "country_pct     -0.218797      0.032071  0.130433 -0.081673 -0.015888  \n",
       "G_rank           0.084362      0.576157  0.245465  0.188899  0.100319  \n",
       "A_rank           0.068294      0.632931  0.268680  0.197600  0.112141  \n",
       "Pts_rank         0.073727      0.626236  0.266715  0.198002  0.109092  \n",
       "Plusmin_rank     0.109604      0.171697  0.155292  0.098165  0.071305  \n",
       "SOG_rank         0.113017      0.645248  0.205859  0.222864  0.117033  \n",
       "G_rank_T         0.059682      0.544061  0.234876  0.176409  0.096438  \n",
       "A_rank_T         0.047902      0.603968  0.258898  0.187034  0.109138  \n",
       "Pts_rank_T       0.051108      0.596207  0.256117  0.186889  0.105337  \n",
       "Plusmin_rank_T   0.014784      0.006504  0.087984  0.033804  0.046712  \n",
       "SOG_rank_T       0.102308      0.627112  0.196124  0.217228  0.112928  \n",
       "height           0.493044      0.081834 -0.081430  0.155799  0.030757  \n",
       "weight           0.593247      0.179642 -0.082981  0.166496  0.040263  \n",
       "FirstYear        0.978660     -0.023059 -0.235234  0.367143  0.021305  \n",
       "LastYear         1.000000      0.177896 -0.170381  0.357901  0.049855  \n",
       "Career_Years     0.177896      1.000000  0.264231 -0.030288  0.140859  \n",
       "HOF             -0.170381      0.264231  1.000000 -0.056114 -0.009549  \n",
       "recent           0.357901     -0.030288 -0.056114  1.000000 -0.009825  \n",
       "new_HOF          0.049855      0.140859 -0.009549 -0.009825  1.000000  \n",
       "\n",
       "[40 rows x 40 columns]"
      ]
     },
     "execution_count": 87,
     "metadata": {},
     "output_type": "execute_result"
    }
   ],
   "source": [
    "hockey.corr()"
   ]
  },
  {
   "cell_type": "code",
   "execution_count": 100,
   "metadata": {},
   "outputs": [
    {
     "data": {
      "text/html": [
       "<div>\n",
       "<style>\n",
       "    .dataframe thead tr:only-child th {\n",
       "        text-align: right;\n",
       "    }\n",
       "\n",
       "    .dataframe thead th {\n",
       "        text-align: left;\n",
       "    }\n",
       "\n",
       "    .dataframe tbody tr th {\n",
       "        vertical-align: top;\n",
       "    }\n",
       "</style>\n",
       "<table border=\"1\" class=\"dataframe\">\n",
       "  <thead>\n",
       "    <tr style=\"text-align: right;\">\n",
       "      <th></th>\n",
       "      <th>playerID</th>\n",
       "      <th>name</th>\n",
       "      <th>true_pos</th>\n",
       "      <th>shootCatch</th>\n",
       "      <th>birthCountry</th>\n",
       "      <th>birthState</th>\n",
       "      <th>birthCity</th>\n",
       "      <th>birthYear</th>\n",
       "      <th>GP</th>\n",
       "      <th>G</th>\n",
       "      <th>...</th>\n",
       "      <th>Plusmin_rank_T</th>\n",
       "      <th>SOG_rank_T</th>\n",
       "      <th>height</th>\n",
       "      <th>weight</th>\n",
       "      <th>FirstYear</th>\n",
       "      <th>LastYear</th>\n",
       "      <th>Career_Years</th>\n",
       "      <th>HOF</th>\n",
       "      <th>recent</th>\n",
       "      <th>new_HOF</th>\n",
       "    </tr>\n",
       "  </thead>\n",
       "  <tbody>\n",
       "    <tr>\n",
       "      <th>0</th>\n",
       "      <td>aaltoan01</td>\n",
       "      <td>Antti Aalto</td>\n",
       "      <td>1</td>\n",
       "      <td>L</td>\n",
       "      <td>Finland</td>\n",
       "      <td>NaN</td>\n",
       "      <td>Lappeenranta</td>\n",
       "      <td>1975.0</td>\n",
       "      <td>151.0</td>\n",
       "      <td>11.0</td>\n",
       "      <td>...</td>\n",
       "      <td>0.481973</td>\n",
       "      <td>0.383366</td>\n",
       "      <td>73.0</td>\n",
       "      <td>210.0</td>\n",
       "      <td>1997</td>\n",
       "      <td>2000</td>\n",
       "      <td>4.0</td>\n",
       "      <td>0</td>\n",
       "      <td>0.0</td>\n",
       "      <td>0.0</td>\n",
       "    </tr>\n",
       "    <tr>\n",
       "      <th>1</th>\n",
       "      <td>aholape01</td>\n",
       "      <td>Peter Ahola</td>\n",
       "      <td>0</td>\n",
       "      <td>L</td>\n",
       "      <td>Finland</td>\n",
       "      <td>NaN</td>\n",
       "      <td>Espoo</td>\n",
       "      <td>1968.0</td>\n",
       "      <td>123.0</td>\n",
       "      <td>10.0</td>\n",
       "      <td>...</td>\n",
       "      <td>0.550983</td>\n",
       "      <td>0.342509</td>\n",
       "      <td>75.0</td>\n",
       "      <td>205.0</td>\n",
       "      <td>1991</td>\n",
       "      <td>1993</td>\n",
       "      <td>3.0</td>\n",
       "      <td>0</td>\n",
       "      <td>0.0</td>\n",
       "      <td>0.0</td>\n",
       "    </tr>\n",
       "    <tr>\n",
       "      <th>2</th>\n",
       "      <td>alatami01</td>\n",
       "      <td>Mika Alatalo</td>\n",
       "      <td>1</td>\n",
       "      <td>L</td>\n",
       "      <td>Finland</td>\n",
       "      <td>NaN</td>\n",
       "      <td>Oulu</td>\n",
       "      <td>1971.0</td>\n",
       "      <td>152.0</td>\n",
       "      <td>17.0</td>\n",
       "      <td>...</td>\n",
       "      <td>0.435829</td>\n",
       "      <td>0.648173</td>\n",
       "      <td>72.0</td>\n",
       "      <td>202.0</td>\n",
       "      <td>1999</td>\n",
       "      <td>2000</td>\n",
       "      <td>2.0</td>\n",
       "      <td>0</td>\n",
       "      <td>0.0</td>\n",
       "      <td>0.0</td>\n",
       "    </tr>\n",
       "    <tr>\n",
       "      <th>3</th>\n",
       "      <td>bergak01</td>\n",
       "      <td>Aki Berg</td>\n",
       "      <td>0</td>\n",
       "      <td>L</td>\n",
       "      <td>Finland</td>\n",
       "      <td>NaN</td>\n",
       "      <td>Turku</td>\n",
       "      <td>1977.0</td>\n",
       "      <td>606.0</td>\n",
       "      <td>15.0</td>\n",
       "      <td>...</td>\n",
       "      <td>0.402757</td>\n",
       "      <td>0.532301</td>\n",
       "      <td>75.0</td>\n",
       "      <td>213.0</td>\n",
       "      <td>1995</td>\n",
       "      <td>2005</td>\n",
       "      <td>11.0</td>\n",
       "      <td>0</td>\n",
       "      <td>0.0</td>\n",
       "      <td>0.0</td>\n",
       "    </tr>\n",
       "    <tr>\n",
       "      <th>4</th>\n",
       "      <td>bergese01</td>\n",
       "      <td>Sean Bergenheim</td>\n",
       "      <td>1</td>\n",
       "      <td>L</td>\n",
       "      <td>Finland</td>\n",
       "      <td>NaN</td>\n",
       "      <td>Helsinki</td>\n",
       "      <td>1984.0</td>\n",
       "      <td>388.0</td>\n",
       "      <td>71.0</td>\n",
       "      <td>...</td>\n",
       "      <td>0.444182</td>\n",
       "      <td>0.778885</td>\n",
       "      <td>70.0</td>\n",
       "      <td>194.0</td>\n",
       "      <td>2003</td>\n",
       "      <td>2011</td>\n",
       "      <td>9.0</td>\n",
       "      <td>0</td>\n",
       "      <td>1.0</td>\n",
       "      <td>0.0</td>\n",
       "    </tr>\n",
       "  </tbody>\n",
       "</table>\n",
       "<p>5 rows × 46 columns</p>\n",
       "</div>"
      ],
      "text/plain": [
       "    playerID             name  true_pos shootCatch birthCountry birthState  \\\n",
       "0  aaltoan01      Antti Aalto         1          L      Finland        NaN   \n",
       "1  aholape01      Peter Ahola         0          L      Finland        NaN   \n",
       "2  alatami01     Mika Alatalo         1          L      Finland        NaN   \n",
       "3   bergak01         Aki Berg         0          L      Finland        NaN   \n",
       "4  bergese01  Sean Bergenheim         1          L      Finland        NaN   \n",
       "\n",
       "      birthCity  birthYear     GP     G   ...     Plusmin_rank_T  SOG_rank_T  \\\n",
       "0  Lappeenranta     1975.0  151.0  11.0   ...           0.481973    0.383366   \n",
       "1         Espoo     1968.0  123.0  10.0   ...           0.550983    0.342509   \n",
       "2          Oulu     1971.0  152.0  17.0   ...           0.435829    0.648173   \n",
       "3         Turku     1977.0  606.0  15.0   ...           0.402757    0.532301   \n",
       "4      Helsinki     1984.0  388.0  71.0   ...           0.444182    0.778885   \n",
       "\n",
       "   height  weight  FirstYear  LastYear  Career_Years  HOF  recent  new_HOF  \n",
       "0    73.0   210.0       1997      2000           4.0    0     0.0      0.0  \n",
       "1    75.0   205.0       1991      1993           3.0    0     0.0      0.0  \n",
       "2    72.0   202.0       1999      2000           2.0    0     0.0      0.0  \n",
       "3    75.0   213.0       1995      2005          11.0    0     0.0      0.0  \n",
       "4    70.0   194.0       2003      2011           9.0    0     1.0      0.0  \n",
       "\n",
       "[5 rows x 46 columns]"
      ]
     },
     "execution_count": 100,
     "metadata": {},
     "output_type": "execute_result"
    }
   ],
   "source": [
    "hockey.head()"
   ]
  },
  {
   "cell_type": "code",
   "execution_count": 88,
   "metadata": {},
   "outputs": [
    {
     "data": {
      "text/plain": [
       "<matplotlib.axes._subplots.AxesSubplot at 0x116210cf8>"
      ]
     },
     "execution_count": 88,
     "metadata": {},
     "output_type": "execute_result"
    },
    {
     "data": {
      "image/png": "[encoded data removed]",
      "text/plain": [
       "<matplotlib.figure.Figure at 0x1142bc160>"
      ]
     },
     "metadata": {},
     "output_type": "display_data"
    }
   ],
   "source": [
    "# Hall of Fame by Career Length in Games Played\n",
    "HOF_gp = hockey[hockey.HOF==1].GP.sort_values(ascending=False)\n",
    "HOF_gp.hist()"
   ]
  },
  {
   "cell_type": "code",
   "execution_count": 89,
   "metadata": {},
   "outputs": [],
   "source": [
    "def plot_distribution( df, var, target, **kwargs):\n",
    "    row = kwargs.get('row', None)\n",
    "    col = kwargs.get('col', None)\n",
    "    facet = sns.FacetGrid(df , hue=target, aspect=3, row=row, col=col)\n",
    "    facet.map(sns.kdeplot, var, shade=True)\n",
    "    facet.set(xlim=(df[var].min() , df[var].max()))\n",
    "    facet.add_legend()"
   ]
  },
  {
   "cell_type": "code",
   "execution_count": 90,
   "metadata": {},
   "outputs": [
    {
     "data": {
      "text/plain": [
       "Index(['playerID', 'name', 'true_pos', 'shootCatch', 'birthCountry',\n",
       "       'birthState', 'birthCity', 'birthYear', 'GP', 'G', 'A', 'Pts', 'PIM',\n",
       "       'plus_min', 'PPG', 'PPA', 'SHG', 'SHA', 'GWG', 'GTG', 'SOG', 'logGP',\n",
       "       'logCareer_Years', 'award_count', 'series_wins', 'won_cup', 'team_pct',\n",
       "       'country_pct', 'G_rank', 'A_rank', 'Pts_rank', 'Plusmin_rank',\n",
       "       'SOG_rank', 'G_rank_T', 'A_rank_T', 'Pts_rank_T', 'Plusmin_rank_T',\n",
       "       'SOG_rank_T', 'height', 'weight', 'FirstYear', 'LastYear',\n",
       "       'Career_Years', 'HOF', 'recent', 'new_HOF'],\n",
       "      dtype='object')"
      ]
     },
     "execution_count": 90,
     "metadata": {},
     "output_type": "execute_result"
    }
   ],
   "source": [
    "hockey.columns"
   ]
  },
  {
   "cell_type": "code",
   "execution_count": 108,
   "metadata": {},
   "outputs": [
    {
     "data": {
      "text/plain": [
       "<matplotlib.collections.PathCollection at 0x1082ec358>"
      ]
     },
     "execution_count": 108,
     "metadata": {},
     "output_type": "execute_result"
    },
    {
     "data": {
      "image/png": "[encoded data removed]",
      "text/plain": [
       "<matplotlib.figure.Figure at 0x114dbe390>"
      ]
     },
     "metadata": {},
     "output_type": "display_data"
    }
   ],
   "source": [
    "plt.scatter(hockey.height,hockey.series_wins)"
   ]
  },
  {
   "cell_type": "code",
   "execution_count": 103,
   "metadata": {},
   "outputs": [
    {
     "data": {
      "image/png": "[encoded data removed]",
      "text/plain": [
       "<matplotlib.figure.Figure at 0x11481efd0>"
      ]
     },
     "metadata": {},
     "output_type": "display_data"
    },
    {
     "data": {
      "image/png": "[encoded data removed]",
      "text/plain": [
       "<matplotlib.figure.Figure at 0x117e13fd0>"
      ]
     },
     "metadata": {},
     "output_type": "display_data"
    },
    {
     "data": {
      "image/png": "[encoded data removed]",
      "text/plain": [
       "<matplotlib.figure.Figure at 0x117dee4a8>"
      ]
     },
     "metadata": {},
     "output_type": "display_data"
    },
    {
     "data": {
      "image/png": "[encoded data removed]",
      "text/plain": [
       "<matplotlib.figure.Figure at 0x117baeef0>"
      ]
     },
     "metadata": {},
     "output_type": "display_data"
    },
    {
     "data": {
      "image/png": "[encoded data removed]",
      "text/plain": [
       "<matplotlib.figure.Figure at 0x117e16be0>"
      ]
     },
     "metadata": {},
     "output_type": "display_data"
    },
    {
     "data": {
      "image/png": "[encoded data removed]",
      "text/plain": [
       "<matplotlib.figure.Figure at 0x1162811d0>"
      ]
     },
     "metadata": {},
     "output_type": "display_data"
    },
    {
     "data": {
      "image/png": "[encoded data removed]",
      "text/plain": [
       "<matplotlib.figure.Figure at 0x1168a6940>"
      ]
     },
     "metadata": {},
     "output_type": "display_data"
    },
    {
     "data": {
      "image/png": "[encoded data removed]",
      "text/plain": [
       "<matplotlib.figure.Figure at 0x11689d8d0>"
      ]
     },
     "metadata": {},
     "output_type": "display_data"
    }
   ],
   "source": [
    "features_to_plot = ['birthYear','LastYear','FirstYear','Career_Years','GP','award_count','height', 'weight']\n",
    "for feature in features_to_plot:\n",
    "    plot_distribution(hockey, feature, 'HOF');\n",
    "\n",
    "# 'series_wins','won_cup'"
   ]
  }
 ],
 "metadata": {
  "kernelspec": {
   "display_name": "Python 3",
   "language": "python",
   "name": "python3"
  },
  "language_info": {
   "codemirror_mode": {
    "name": "ipython",
    "version": 3
   },
   "file_extension": ".py",
   "mimetype": "text/x-python",
   "name": "python",
   "nbconvert_exporter": "python",
   "pygments_lexer": "ipython3",
   "version": "3.6.0"
  }
 },
 "nbformat": 4,
 "nbformat_minor": 2
}
