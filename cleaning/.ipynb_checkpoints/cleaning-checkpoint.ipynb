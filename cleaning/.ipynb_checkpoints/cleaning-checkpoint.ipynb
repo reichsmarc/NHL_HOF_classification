{
 "cells": [
  {
   "cell_type": "code",
   "execution_count": 131,
   "metadata": {},
   "outputs": [],
   "source": [
    "import pandas as pd\n",
    "import numpy as np\n",
    "import matplotlib.pyplot as plt\n",
    "import seaborn as sns\n",
    "\n",
    "import glob\n",
    "import os\n",
    "\n",
    "from sklearn.cross_validation import train_test_split\n",
    "from sklearn.neighbors import KNeighborsClassifier\n",
    "from sklearn import metrics\n",
    "\n",
    "# Path to repo main directory\n",
    "pwd = !pwd\n",
    "path = pwd[0].replace('cleaning','')\n",
    "\n",
    "%matplotlib inline"
   ]
  },
  {
   "cell_type": "markdown",
   "metadata": {},
   "source": [
    "### Step 1: Import Relevant Tables ###\n",
    "All filepaths included for further data exploration."
   ]
  },
  {
   "cell_type": "code",
   "execution_count": 132,
   "metadata": {},
   "outputs": [],
   "source": [
    "# abbrev = pd.read_csv(path+'hockeydb/abbrev.csv')\n",
    "# AwardsCoaches = pd.read_csv(path+'hockeydb/AwardsCoaches.csv')\n",
    "# AwardsMisc = pd.read_csv(path+'hockeydb/AwardsMisc.csv')\n",
    "AwardsPlayers = pd.read_csv(path+'hockeydb/AwardsPlayers.csv')\n",
    "# Coaches = pd.read_csv(path+'hockeydb/Coaches.csv')\n",
    "# Coaches_beta = pd.read_csv(path+'hockeydb/Coaches_beta.csv')\n",
    "# CombinedShutouts = pd.read_csv(path+'hockeydb/CombinedShutouts.csv')\n",
    "# Goalies = pd.read_csv(path+'hockeydb/Goalies.csv')\n",
    "# GoaliesSC = pd.read_csv(path+'hockeydb/GoaliesSC.csv')\n",
    "# GoaliesShootout = pd.read_csv(path+'hockeydb/GoaliesShootout.csv')\n",
    "HOF = pd.read_csv(path+'hockeydb/HOF.csv')\n",
    "Master = pd.read_csv(path+'hockeydb/Master.csv')\n",
    "Scoring = pd.read_csv(path+'hockeydb/Scoring.csv')\n",
    "# ScoringSC = pd.read_csv(path+'hockeydb/ScoringSC.csv')\n",
    "# ScoringShootout = pd.read_csv(path+'hockeydb/ScoringShootout.csv')\n",
    "# ScoringSup = pd.read_csv(path+'hockeydb/ScoringSup.csv')\n",
    "SeriesPost = pd.read_csv(path+'hockeydb/SeriesPost.csv')\n",
    "Teams = pd.read_csv(path+'hockeydb/Teams.csv')\n",
    "# TeamsHalf = pd.read_csv(path+'hockeydb/TeamsHalf.csv')\n",
    "# TeamSplits = pd.read_csv(path+'hockeydb/TeamSplits.csv')\n",
    "# TeamsPost = pd.read_csv(path+'hockeydb/TeamsPost.csv')\n",
    "TeamsSC = pd.read_csv(path+'hockeydb/TeamsSC.csv')\n",
    "# TeamVsTeam = pd.read_csv(path+'hockeydb/TeamVsTeam.csv')"
   ]
  },
  {
   "cell_type": "code",
   "execution_count": 133,
   "metadata": {
    "collapsed": true
   },
   "outputs": [],
   "source": [
    "# Add playerID to HOF table\n",
    "HOF['playerID'] = [x[:-1] for x in HOF['hofID']]\n",
    "HOF = HOF[HOF.category=='Player']"
   ]
  },
  {
   "cell_type": "markdown",
   "metadata": {},
   "source": [
    "### Step 2: Data Exploration"
   ]
  },
  {
   "cell_type": "markdown",
   "metadata": {},
   "source": [
    "#### Hall of Fame Inductees by Year ####"
   ]
  },
  {
   "cell_type": "code",
   "execution_count": 134,
   "metadata": {},
   "outputs": [
    {
     "data": {
      "image/png": "[encoded data removed]",
      "text/plain": [
       "<matplotlib.figure.Figure at 0x1196e66d8>"
      ]
     },
     "metadata": {},
     "output_type": "display_data"
    }
   ],
   "source": [
    "by_year = HOF.groupby('year')['name'].count().reset_index().sort_values('year')\n",
    "plt.figure(figsize=(14,5))\n",
    "plt.title('Hall of Fame - Player Inductees by Year\\n (1945 - 2011)',fontsize=20)\n",
    "plt.xlabel('Year',fontsize=14)\n",
    "plt.ylabel('Count',fontsize=14)\n",
    "plt.tick_params(axis='both', which='major', labelsize=14)\n",
    "plt.bar(by_year.year,by_year.name);"
   ]
  },
  {
   "cell_type": "markdown",
   "metadata": {},
   "source": [
    "#### Add HOF column to Scoring Table ####"
   ]
  },
  {
   "cell_type": "code",
   "execution_count": 135,
   "metadata": {
    "collapsed": true
   },
   "outputs": [],
   "source": [
    "Scoring['HOF'] = [1 if x == True else 0 for x in Scoring.playerID.isin(HOF.playerID)]"
   ]
  },
  {
   "cell_type": "markdown",
   "metadata": {},
   "source": [
    "#### Fix column names ####"
   ]
  },
  {
   "cell_type": "code",
   "execution_count": 136,
   "metadata": {
    "collapsed": true
   },
   "outputs": [],
   "source": [
    "Scoring.columns = ['playerID', 'year', 'stint', 'tmID', 'lgID', 'pos', 'GP', 'G', 'A',\n",
    "       'Pts', 'PIM', 'plus_min', 'PPG', 'PPA', 'SHG', 'SHA', 'GWG', 'GTG', 'SOG',\n",
    "       'PostGP', 'PostG', 'PostA', 'PostPts', 'PostPIM', 'Postplus_min', 'PostPPG',\n",
    "       'PostPPA', 'PostSHG', 'PostSHA', 'PostGWG', 'PostSOG', 'HOF']"
   ]
  },
  {
   "cell_type": "markdown",
   "metadata": {},
   "source": [
    "#### Calculate Playoff Wins column; add to Scoring Table ####"
   ]
  },
  {
   "cell_type": "code",
   "execution_count": 137,
   "metadata": {
    "collapsed": true,
    "scrolled": false
   },
   "outputs": [],
   "source": [
    "serieswins = SeriesPost[['year','round','tmIDWinner']] # series wins by team/year\n",
    "serieswins = serieswins.groupby(['year','tmIDWinner'])['round'].count().reset_index()\n",
    "serieswins.columns = ['year','tmID','series_wins']"
   ]
  },
  {
   "cell_type": "code",
   "execution_count": 138,
   "metadata": {
    "collapsed": true
   },
   "outputs": [],
   "source": [
    "Scoring = pd.merge(Scoring,serieswins,how='outer')\n",
    "Scoring.series_wins =  Scoring.series_wins.fillna(0)"
   ]
  },
  {
   "cell_type": "markdown",
   "metadata": {},
   "source": [
    "#### Add Team Rank and Stanley Cup winner columns to Scoring Table ####"
   ]
  },
  {
   "cell_type": "code",
   "execution_count": 139,
   "metadata": {
    "collapsed": true
   },
   "outputs": [],
   "source": [
    "teamrank = Teams[['tmID','year','rank']]\n",
    "\n",
    "stanley = Teams[['tmID','year','playoff']]\n",
    "stanley = stanley[stanley.playoff == 'SC']\n",
    "stanley['playoff'] = 1\n",
    "stanley.columns = ['tmID', 'year', 'won_cup']\n",
    "\n",
    "Scoring = pd.merge(Scoring,teamrank,how='outer')\n",
    "Scoring = pd.merge(Scoring,stanley,how='outer')\n",
    "\n",
    "Scoring.won_cup = Scoring.won_cup.fillna(0)"
   ]
  },
  {
   "cell_type": "markdown",
   "metadata": {},
   "source": [
    "#### Team Percentile Rank by Year ####\n",
    "Add a column comparing each team to all others by year to understand where the team stood relative to the rest of the league each year."
   ]
  },
  {
   "cell_type": "code",
   "execution_count": 140,
   "metadata": {
    "collapsed": true
   },
   "outputs": [],
   "source": [
    "ranks = Teams.groupby(['year','lgID'])['rank'].max().reset_index()\n",
    "ranks.columns = ['year','lgID','numteams']\n",
    "Scoring = pd.merge(Scoring,ranks,how='outer')\n",
    "Scoring['team_pct'] = 1-(Scoring['rank']/Scoring.numteams)"
   ]
  },
  {
   "cell_type": "markdown",
   "metadata": {},
   "source": [
    "#### Player vs. League - Performance Percentiles by Year ####\n",
    "Adding columns comparing each player to the rest of the league in a given year to understand relative performance:\n",
    "- Goals Rank\n",
    "- Assists Rank\n",
    "- Points Rank\n",
    "- +/- Rating Rank\n",
    "- Shots on Goal Rank"
   ]
  },
  {
   "cell_type": "code",
   "execution_count": 141,
   "metadata": {
    "collapsed": true
   },
   "outputs": [],
   "source": [
    "Scoring['G_rank'] = Scoring.groupby(['year']).G.rank(pct=True)\n",
    "Scoring['A_rank'] = Scoring.groupby(['year']).A.rank(pct=True)\n",
    "Scoring['Pts_rank'] = Scoring.groupby(['year']).Pts.rank(pct=True)\n",
    "Scoring['Plusmin_rank'] = Scoring.groupby(['year']).plus_min.rank(pct=True)\n",
    "Scoring['SOG_rank'] = Scoring.groupby(['year']).SOG.rank(pct=True)"
   ]
  },
  {
   "cell_type": "markdown",
   "metadata": {},
   "source": [
    "#### Player vs. Team - Performance Percentiles by Year ####\n",
    "Adding same columns comparing each player to his team:\n",
    "- Goals Rank within Team\n",
    "- Assists Rank within Team\n",
    "- Points Rank within Team\n",
    "- +/- Rating Rank within Team\n",
    "- Shots on Goal Rank within Team"
   ]
  },
  {
   "cell_type": "code",
   "execution_count": 142,
   "metadata": {
    "collapsed": true
   },
   "outputs": [],
   "source": [
    "Scoring['G_rank_T'] = Scoring.groupby(['year','tmID']).G.rank(pct=True)\n",
    "Scoring['A_rank_T'] = Scoring.groupby(['year','tmID']).A.rank(pct=True)\n",
    "Scoring['Pts_rank_T'] = Scoring.groupby(['year','tmID']).Pts.rank(pct=True)\n",
    "Scoring['Plusmin_rank_T'] = Scoring.groupby(['year','tmID']).plus_min.rank(pct=True)\n",
    "Scoring['SOG_rank_T'] = Scoring.groupby(['year','tmID']).SOG.rank(pct=True)\n",
    "Scoring[Scoring.G_rank_T==1];"
   ]
  },
  {
   "cell_type": "markdown",
   "metadata": {},
   "source": [
    "#### Add First & Last year to Scoring Table ####\n",
    "Including a column for first and last career year"
   ]
  },
  {
   "cell_type": "code",
   "execution_count": 143,
   "metadata": {
    "collapsed": true
   },
   "outputs": [],
   "source": [
    "LastYear = pd.DataFrame(Scoring.groupby('playerID')['year'].max().reset_index())\n",
    "LastYear.columns = ['playerID','LastYear'] \n",
    "Scoring = pd.merge(Scoring,LastYear,how='outer')\n",
    "\n",
    "FirstYear = pd.DataFrame(Scoring.groupby('playerID')['year'].min().reset_index())\n",
    "FirstYear.columns = ['playerID','FirstYear'] \n",
    "Scoring = pd.merge(Scoring,FirstYear,how='outer')"
   ]
  },
  {
   "cell_type": "markdown",
   "metadata": {},
   "source": [
    "#### Show count of null values by column ####"
   ]
  },
  {
   "cell_type": "code",
   "execution_count": 144,
   "metadata": {},
   "outputs": [
    {
     "data": {
      "text/plain": [
       "PostPPA         37113\n",
       "PostSHA         37112\n",
       "PostSOG         35575\n",
       "Postplus_min    34963\n",
       "PostPPG         31475\n",
       "PostSHG         31475\n",
       "PostGWG         30310\n",
       "PostPIM         26873\n",
       "PostPts         26873\n",
       "PostA           26873\n",
       "PostG           26814\n",
       "PostGP          26814\n",
       "PPA             22927\n",
       "SHA             22753\n",
       "GTG             17861\n",
       "dtype: int64"
      ]
     },
     "execution_count": 144,
     "metadata": {},
     "output_type": "execute_result"
    }
   ],
   "source": [
    "Scoring.isnull().sum().sort_values(ascending=False).head(15)"
   ]
  },
  {
   "cell_type": "markdown",
   "metadata": {},
   "source": [
    "#### Drop Postseason Statistics ####\n",
    "Removing postseason statistics because not all players/teams reached the playoffs and these columns have many null values. \n",
    "\n",
    "We have already accounted for postseason success with the 'Stanley Cup Wins' and 'Playoff Series Wins' variables above."
   ]
  },
  {
   "cell_type": "code",
   "execution_count": 145,
   "metadata": {},
   "outputs": [
    {
     "data": {
      "text/plain": [
       "Index(['playerID', 'year', 'stint', 'tmID', 'lgID', 'pos', 'GP', 'G', 'A',\n",
       "       'Pts', 'PIM', 'plus_min', 'PPG', 'PPA', 'SHG', 'SHA', 'GWG', 'GTG',\n",
       "       'SOG', 'HOF', 'series_wins', 'rank', 'won_cup', 'numteams', 'team_pct',\n",
       "       'G_rank', 'A_rank', 'Pts_rank', 'Plusmin_rank', 'SOG_rank', 'G_rank_T',\n",
       "       'A_rank_T', 'Pts_rank_T', 'Plusmin_rank_T', 'SOG_rank_T', 'LastYear',\n",
       "       'FirstYear'],\n",
       "      dtype='object')"
      ]
     },
     "execution_count": 145,
     "metadata": {},
     "output_type": "execute_result"
    }
   ],
   "source": [
    "subset = [col for col in Scoring.columns if 'Post' in col]\n",
    "Scoring.drop(subset,axis=1,inplace=True)\n",
    "Scoring.columns"
   ]
  },
  {
   "cell_type": "markdown",
   "metadata": {},
   "source": [
    "#### Check null values again ####"
   ]
  },
  {
   "cell_type": "code",
   "execution_count": 146,
   "metadata": {},
   "outputs": [
    {
     "data": {
      "text/plain": [
       "PPA               22927\n",
       "SHA               22753\n",
       "GTG               17861\n",
       "Plusmin_rank_T     9702\n",
       "plus_min           9702\n",
       "Plusmin_rank       9702\n",
       "SOG                9603\n",
       "SOG_rank_T         9603\n",
       "SOG_rank           9603\n",
       "GWG                9400\n",
       "SHG                8223\n",
       "PPG                8219\n",
       "pos                 582\n",
       "PIM                 268\n",
       "G                   268\n",
       "dtype: int64"
      ]
     },
     "execution_count": 146,
     "metadata": {},
     "output_type": "execute_result"
    }
   ],
   "source": [
    "Scoring.isnull().sum().sort_values(ascending=False).head(15)"
   ]
  },
  {
   "cell_type": "markdown",
   "metadata": {},
   "source": [
    "#### Fill PPA, SHA, and GTG nulls with zeros ####\n",
    "Powerplay assists, shorthanded assists and game-tying goals are now the most sparsely populated columns because these statistics were not tracked until more recently. I chose to fill the missing values with zeroes because not many players (even in the modern era) have nonzero statistics for these fields."
   ]
  },
  {
   "cell_type": "code",
   "execution_count": 147,
   "metadata": {
    "collapsed": true
   },
   "outputs": [],
   "source": [
    "Scoring.series_wins = Scoring.series_wins.fillna(0)\n",
    "Scoring.PPA = Scoring.PPA.fillna(0)\n",
    "Scoring.SHA = Scoring.SHA.fillna(0)\n",
    "Scoring.GTG = Scoring.GTG.fillna(0)"
   ]
  },
  {
   "cell_type": "markdown",
   "metadata": {},
   "source": [
    "#### Check nulls again ####"
   ]
  },
  {
   "cell_type": "code",
   "execution_count": 148,
   "metadata": {},
   "outputs": [
    {
     "data": {
      "text/plain": [
       "Plusmin_rank      9702\n",
       "Plusmin_rank_T    9702\n",
       "plus_min          9702\n",
       "SOG               9603\n",
       "SOG_rank_T        9603\n",
       "SOG_rank          9603\n",
       "GWG               9400\n",
       "SHG               8223\n",
       "PPG               8219\n",
       "pos                582\n",
       "Pts_rank           268\n",
       "A_rank             268\n",
       "G_rank             268\n",
       "G_rank_T           268\n",
       "GP                 268\n",
       "G                  268\n",
       "A                  268\n",
       "A_rank_T           268\n",
       "Pts                268\n",
       "Pts_rank_T         268\n",
       "PIM                268\n",
       "stint                0\n",
       "tmID                 0\n",
       "lgID                 0\n",
       "year                 0\n",
       "FirstYear            0\n",
       "PPA                  0\n",
       "SHA                  0\n",
       "GTG                  0\n",
       "LastYear             0\n",
       "HOF                  0\n",
       "series_wins          0\n",
       "rank                 0\n",
       "won_cup              0\n",
       "numteams             0\n",
       "team_pct             0\n",
       "playerID             0\n",
       "dtype: int64"
      ]
     },
     "execution_count": 148,
     "metadata": {},
     "output_type": "execute_result"
    }
   ],
   "source": [
    "Scoring.isnull().sum().sort_values(ascending=False)"
   ]
  },
  {
   "cell_type": "markdown",
   "metadata": {},
   "source": [
    "#### Drop NaNs from Pts, PIM, A, G, GP and pos ####\n",
    "Now we will drop records with missing values in the following categories:\n",
    "- Points (and ranks)\n",
    "- Assists (and ranks)\n",
    "- Goals (and ranks)\n",
    "- Penalties in Minutes\n",
    "- Games Played\n",
    "- Position"
   ]
  },
  {
   "cell_type": "code",
   "execution_count": 149,
   "metadata": {
    "collapsed": true
   },
   "outputs": [],
   "source": [
    "subset=['Pts','PIM','A','G','GP','pos','G_rank_T','A_rank_T','Pts_rank_T','G_rank','A_rank','Pts_rank']\n",
    "Scoring.dropna(axis=0,subset=subset,inplace=True)\n",
    "Scoring.isnull().sum().sort_values(ascending=False);"
   ]
  },
  {
   "cell_type": "markdown",
   "metadata": {},
   "source": [
    "#### HOF vs. Non-HOF Comparisons ####\n",
    "Hall of Famers have won more playoff series than non-HOF players, and have been on teams which have had better records during the regular season."
   ]
  },
  {
   "cell_type": "code",
   "execution_count": 150,
   "metadata": {},
   "outputs": [
    {
     "data": {
      "text/plain": [
       "HOF\n",
       "0    0.524091\n",
       "1    0.768335\n",
       "Name: series_wins, dtype: float64"
      ]
     },
     "execution_count": 150,
     "metadata": {},
     "output_type": "execute_result"
    }
   ],
   "source": [
    "Scoring.groupby('HOF')['series_wins'].mean()"
   ]
  },
  {
   "cell_type": "code",
   "execution_count": 151,
   "metadata": {},
   "outputs": [
    {
     "data": {
      "text/plain": [
       "HOF\n",
       "0    0.411137\n",
       "1    0.500912\n",
       "Name: team_pct, dtype: float64"
      ]
     },
     "execution_count": 151,
     "metadata": {},
     "output_type": "execute_result"
    }
   ],
   "source": [
    "Scoring.groupby('HOF')['team_pct'].mean()"
   ]
  },
  {
   "cell_type": "markdown",
   "metadata": {},
   "source": [
    "#### Make positions uniform; only keep main position ####"
   ]
  },
  {
   "cell_type": "code",
   "execution_count": 152,
   "metadata": {},
   "outputs": [
    {
     "data": {
      "text/plain": [
       "array(['C', 'L', 'G', 'R', 'D', 'W', 'F'], dtype=object)"
      ]
     },
     "execution_count": 152,
     "metadata": {},
     "output_type": "execute_result"
    }
   ],
   "source": [
    "Scoring['pos'] = [x[0] for x in Scoring.pos]\n",
    "Scoring.pos.unique()"
   ]
  },
  {
   "cell_type": "code",
   "execution_count": 153,
   "metadata": {
    "collapsed": true
   },
   "outputs": [],
   "source": [
    "Scoring.pos.replace('C','F',True)\n",
    "Scoring.pos.replace('R','F',True)\n",
    "Scoring.pos.replace('L','F',True)\n",
    "Scoring.pos.replace('W','F',True)\n",
    "Scoring.groupby(['playerID'])['pos'].nunique().reset_index().sort_values('pos',ascending=False);"
   ]
  },
  {
   "cell_type": "code",
   "execution_count": 154,
   "metadata": {
    "collapsed": true
   },
   "outputs": [],
   "source": [
    "true_pos = Scoring.groupby(['playerID'])['pos'].agg(lambda x:x.value_counts().index[0]).reset_index()\n",
    "true_pos.columns = ['playerID','true_pos']"
   ]
  },
  {
   "cell_type": "code",
   "execution_count": 155,
   "metadata": {
    "collapsed": true
   },
   "outputs": [],
   "source": [
    "Scoring = pd.merge(Scoring,true_pos,how='outer')"
   ]
  },
  {
   "cell_type": "markdown",
   "metadata": {},
   "source": [
    "#### Summarize Statistics by PlayerID - Sum/Average ####"
   ]
  },
  {
   "cell_type": "code",
   "execution_count": 156,
   "metadata": {
    "collapsed": true
   },
   "outputs": [],
   "source": [
    "summed = Scoring.groupby('playerID')[\n",
    "        'GP', 'G', 'A','Pts', 'PIM', 'plus_min', 'PPG', 'PPA', 'SHG', 'SHA', 'GWG', 'GTG',\n",
    "       'SOG','series_wins','won_cup'].sum().reset_index()\n",
    "\n",
    "averaged = Scoring.groupby('playerID')[\n",
    "        'team_pct','G_rank', 'A_rank', 'Pts_rank', 'Plusmin_rank', 'SOG_rank', 'G_rank_T',\n",
    "       'A_rank_T', 'Pts_rank_T', 'Plusmin_rank_T', 'SOG_rank_T'].mean().reset_index()\n",
    "\n",
    "rest = Scoring[['playerID','true_pos','HOF','FirstYear','LastYear']]\n",
    "\n",
    "summary = pd.merge(summed,averaged,how='outer')"
   ]
  },
  {
   "cell_type": "code",
   "execution_count": 157,
   "metadata": {},
   "outputs": [
    {
     "data": {
      "text/plain": [
       "(7333, 31)"
      ]
     },
     "execution_count": 157,
     "metadata": {},
     "output_type": "execute_result"
    }
   ],
   "source": [
    "summary = pd.merge(summary,rest.drop_duplicates(),how='outer')\n",
    "summary.shape"
   ]
  },
  {
   "cell_type": "markdown",
   "metadata": {},
   "source": [
    "#### Create 'awards count' Column ####\n",
    "It's important to capture which players have received end-of-regular season and end-of-playoff awards according to coaches and players from each season."
   ]
  },
  {
   "cell_type": "code",
   "execution_count": 158,
   "metadata": {
    "collapsed": true
   },
   "outputs": [],
   "source": [
    "awards_count = AwardsPlayers.groupby('playerID')['award'].count().reset_index()\n",
    "summary = pd.merge(summary,awards_count,how='outer')\n",
    "summary.rename(index=str, columns={'award': 'award_count'},inplace=True)\n",
    "summary.award_count.fillna(0,inplace=True)"
   ]
  },
  {
   "cell_type": "markdown",
   "metadata": {},
   "source": [
    "#### Master Table -- Clean up Column Names ####"
   ]
  },
  {
   "cell_type": "code",
   "execution_count": 159,
   "metadata": {},
   "outputs": [
    {
     "data": {
      "text/plain": [
       "Index(['playerID', 'coachID', 'hofID', 'firstName', 'lastName', 'nameNote',\n",
       "       'nameGiven', 'nameNick', 'height', 'weight', 'shootCatch', 'legendsID',\n",
       "       'ihdbID', 'hrefID', 'firstNHL', 'lastNHL', 'firstWHA', 'lastWHA', 'pos',\n",
       "       'birthYear', 'birthMon', 'birthDay', 'birthCountry', 'birthState',\n",
       "       'birthCity', 'deathYear', 'deathMon', 'deathDay', 'deathCountry',\n",
       "       'deathState', 'deathCity'],\n",
       "      dtype='object')"
      ]
     },
     "execution_count": 159,
     "metadata": {},
     "output_type": "execute_result"
    }
   ],
   "source": [
    "Master.columns"
   ]
  },
  {
   "cell_type": "code",
   "execution_count": 160,
   "metadata": {
    "collapsed": true
   },
   "outputs": [],
   "source": [
    "Master = Master[['playerID', 'firstName', 'lastName','height', 'weight', 'shootCatch', \n",
    "                 'firstNHL', 'lastNHL', 'firstWHA', 'lastWHA',\n",
    "                'birthCountry','birthState','birthCity','birthYear']]"
   ]
  },
  {
   "cell_type": "markdown",
   "metadata": {},
   "source": [
    "#### Relabel Ambidextrous Player ####"
   ]
  },
  {
   "cell_type": "code",
   "execution_count": 161,
   "metadata": {},
   "outputs": [
    {
     "data": {
      "text/plain": [
       "L    4604\n",
       "R    2443\n",
       "B       1\n",
       "Name: shootCatch, dtype: int64"
      ]
     },
     "execution_count": 161,
     "metadata": {},
     "output_type": "execute_result"
    }
   ],
   "source": [
    "Master.shootCatch.value_counts()"
   ]
  },
  {
   "cell_type": "code",
   "execution_count": 162,
   "metadata": {
    "collapsed": true
   },
   "outputs": [],
   "source": [
    "Master.shootCatch.replace('B','L',True)"
   ]
  },
  {
   "cell_type": "code",
   "execution_count": 163,
   "metadata": {},
   "outputs": [
    {
     "data": {
      "text/plain": [
       "L    4605\n",
       "R    2443\n",
       "Name: shootCatch, dtype: int64"
      ]
     },
     "execution_count": 163,
     "metadata": {},
     "output_type": "execute_result"
    }
   ],
   "source": [
    "Master.shootCatch.value_counts()"
   ]
  },
  {
   "cell_type": "markdown",
   "metadata": {},
   "source": [
    "#### Create column for Career Length in Years and add to Master Table ####"
   ]
  },
  {
   "cell_type": "code",
   "execution_count": 164,
   "metadata": {
    "collapsed": true
   },
   "outputs": [],
   "source": [
    "Master['NHL_Years'] = Master.lastNHL - Master.firstNHL\n",
    "Master.NHL_Years = Master.NHL_Years.fillna(0)\n",
    "Master['WHA_Years'] = Master.lastWHA - Master.firstWHA\n",
    "Master.WHA_Years = Master.WHA_Years.fillna(0)\n",
    "Master['Career_Years'] = Master.NHL_Years + Master.WHA_Years + 1"
   ]
  },
  {
   "cell_type": "code",
   "execution_count": 165,
   "metadata": {
    "collapsed": true
   },
   "outputs": [],
   "source": [
    "summary = pd.merge(summary,Master,how='inner')"
   ]
  },
  {
   "cell_type": "markdown",
   "metadata": {},
   "source": [
    "#### 14 Hall of Famers have minimal or missing career statistics! ####"
   ]
  },
  {
   "cell_type": "code",
   "execution_count": 166,
   "metadata": {},
   "outputs": [
    {
     "data": {
      "text/html": [
       "<div>\n",
       "<style>\n",
       "    .dataframe thead tr:only-child th {\n",
       "        text-align: right;\n",
       "    }\n",
       "\n",
       "    .dataframe thead th {\n",
       "        text-align: left;\n",
       "    }\n",
       "\n",
       "    .dataframe tbody tr th {\n",
       "        vertical-align: top;\n",
       "    }\n",
       "</style>\n",
       "<table border=\"1\" class=\"dataframe\">\n",
       "  <thead>\n",
       "    <tr style=\"text-align: right;\">\n",
       "      <th></th>\n",
       "      <th>playerID</th>\n",
       "      <th>GP</th>\n",
       "      <th>G</th>\n",
       "      <th>A</th>\n",
       "      <th>Pts</th>\n",
       "      <th>PIM</th>\n",
       "      <th>plus_min</th>\n",
       "      <th>PPG</th>\n",
       "      <th>PPA</th>\n",
       "      <th>SHG</th>\n",
       "      <th>...</th>\n",
       "      <th>lastNHL</th>\n",
       "      <th>firstWHA</th>\n",
       "      <th>lastWHA</th>\n",
       "      <th>birthCountry</th>\n",
       "      <th>birthState</th>\n",
       "      <th>birthCity</th>\n",
       "      <th>birthYear</th>\n",
       "      <th>NHL_Years</th>\n",
       "      <th>WHA_Years</th>\n",
       "      <th>Career_Years</th>\n",
       "    </tr>\n",
       "  </thead>\n",
       "  <tbody>\n",
       "    <tr>\n",
       "      <th>1704</th>\n",
       "      <td>dundeto01</td>\n",
       "      <td>259.0</td>\n",
       "      <td>196.0</td>\n",
       "      <td>60.0</td>\n",
       "      <td>256.0</td>\n",
       "      <td>485.0</td>\n",
       "      <td>NaN</td>\n",
       "      <td>NaN</td>\n",
       "      <td>0.0</td>\n",
       "      <td>NaN</td>\n",
       "      <td>...</td>\n",
       "      <td>NaN</td>\n",
       "      <td>NaN</td>\n",
       "      <td>NaN</td>\n",
       "      <td>Australia</td>\n",
       "      <td>NaN</td>\n",
       "      <td>Benella</td>\n",
       "      <td>1887.0</td>\n",
       "      <td>0.0</td>\n",
       "      <td>0.0</td>\n",
       "      <td>1.0</td>\n",
       "    </tr>\n",
       "    <tr>\n",
       "      <th>2139</th>\n",
       "      <td>gardnji01</td>\n",
       "      <td>28.0</td>\n",
       "      <td>11.0</td>\n",
       "      <td>4.0</td>\n",
       "      <td>15.0</td>\n",
       "      <td>70.0</td>\n",
       "      <td>NaN</td>\n",
       "      <td>NaN</td>\n",
       "      <td>0.0</td>\n",
       "      <td>NaN</td>\n",
       "      <td>...</td>\n",
       "      <td>NaN</td>\n",
       "      <td>NaN</td>\n",
       "      <td>NaN</td>\n",
       "      <td>Canada</td>\n",
       "      <td>QC</td>\n",
       "      <td>Montreal</td>\n",
       "      <td>1881.0</td>\n",
       "      <td>0.0</td>\n",
       "      <td>0.0</td>\n",
       "      <td>1.0</td>\n",
       "    </tr>\n",
       "    <tr>\n",
       "      <th>2409</th>\n",
       "      <td>griffsi01</td>\n",
       "      <td>109.0</td>\n",
       "      <td>38.0</td>\n",
       "      <td>26.0</td>\n",
       "      <td>64.0</td>\n",
       "      <td>137.0</td>\n",
       "      <td>NaN</td>\n",
       "      <td>NaN</td>\n",
       "      <td>0.0</td>\n",
       "      <td>NaN</td>\n",
       "      <td>...</td>\n",
       "      <td>NaN</td>\n",
       "      <td>NaN</td>\n",
       "      <td>NaN</td>\n",
       "      <td>USA</td>\n",
       "      <td>KS</td>\n",
       "      <td>Onaga</td>\n",
       "      <td>1883.0</td>\n",
       "      <td>0.0</td>\n",
       "      <td>0.0</td>\n",
       "      <td>1.0</td>\n",
       "    </tr>\n",
       "    <tr>\n",
       "      <th>2959</th>\n",
       "      <td>hylanha01</td>\n",
       "      <td>32.0</td>\n",
       "      <td>40.0</td>\n",
       "      <td>2.0</td>\n",
       "      <td>42.0</td>\n",
       "      <td>108.0</td>\n",
       "      <td>NaN</td>\n",
       "      <td>NaN</td>\n",
       "      <td>0.0</td>\n",
       "      <td>NaN</td>\n",
       "      <td>...</td>\n",
       "      <td>1917.0</td>\n",
       "      <td>NaN</td>\n",
       "      <td>NaN</td>\n",
       "      <td>Canada</td>\n",
       "      <td>QC</td>\n",
       "      <td>Montreal</td>\n",
       "      <td>1889.0</td>\n",
       "      <td>0.0</td>\n",
       "      <td>0.0</td>\n",
       "      <td>1.0</td>\n",
       "    </tr>\n",
       "    <tr>\n",
       "      <th>3127</th>\n",
       "      <td>johnsmo01</td>\n",
       "      <td>185.0</td>\n",
       "      <td>55.0</td>\n",
       "      <td>37.0</td>\n",
       "      <td>92.0</td>\n",
       "      <td>254.0</td>\n",
       "      <td>NaN</td>\n",
       "      <td>NaN</td>\n",
       "      <td>0.0</td>\n",
       "      <td>NaN</td>\n",
       "      <td>...</td>\n",
       "      <td>NaN</td>\n",
       "      <td>NaN</td>\n",
       "      <td>NaN</td>\n",
       "      <td>Canada</td>\n",
       "      <td>QC</td>\n",
       "      <td>Montreal</td>\n",
       "      <td>1886.0</td>\n",
       "      <td>0.0</td>\n",
       "      <td>0.0</td>\n",
       "      <td>1.0</td>\n",
       "    </tr>\n",
       "    <tr>\n",
       "      <th>3713</th>\n",
       "      <td>lavioja01</td>\n",
       "      <td>18.0</td>\n",
       "      <td>2.0</td>\n",
       "      <td>1.0</td>\n",
       "      <td>3.0</td>\n",
       "      <td>6.0</td>\n",
       "      <td>NaN</td>\n",
       "      <td>NaN</td>\n",
       "      <td>0.0</td>\n",
       "      <td>NaN</td>\n",
       "      <td>...</td>\n",
       "      <td>1917.0</td>\n",
       "      <td>NaN</td>\n",
       "      <td>NaN</td>\n",
       "      <td>Canada</td>\n",
       "      <td>ON</td>\n",
       "      <td>Belleville</td>\n",
       "      <td>1879.0</td>\n",
       "      <td>0.0</td>\n",
       "      <td>0.0</td>\n",
       "      <td>1.0</td>\n",
       "    </tr>\n",
       "    <tr>\n",
       "      <th>3828</th>\n",
       "      <td>lesuepe01</td>\n",
       "      <td>120.0</td>\n",
       "      <td>0.0</td>\n",
       "      <td>0.0</td>\n",
       "      <td>0.0</td>\n",
       "      <td>7.0</td>\n",
       "      <td>NaN</td>\n",
       "      <td>NaN</td>\n",
       "      <td>0.0</td>\n",
       "      <td>NaN</td>\n",
       "      <td>...</td>\n",
       "      <td>NaN</td>\n",
       "      <td>NaN</td>\n",
       "      <td>NaN</td>\n",
       "      <td>Canada</td>\n",
       "      <td>QC</td>\n",
       "      <td>Quebec City</td>\n",
       "      <td>1881.0</td>\n",
       "      <td>0.0</td>\n",
       "      <td>0.0</td>\n",
       "      <td>1.0</td>\n",
       "    </tr>\n",
       "    <tr>\n",
       "      <th>4663</th>\n",
       "      <td>moranpa01</td>\n",
       "      <td>133.0</td>\n",
       "      <td>0.0</td>\n",
       "      <td>0.0</td>\n",
       "      <td>0.0</td>\n",
       "      <td>6.0</td>\n",
       "      <td>NaN</td>\n",
       "      <td>NaN</td>\n",
       "      <td>0.0</td>\n",
       "      <td>NaN</td>\n",
       "      <td>...</td>\n",
       "      <td>NaN</td>\n",
       "      <td>NaN</td>\n",
       "      <td>NaN</td>\n",
       "      <td>Canada</td>\n",
       "      <td>QC</td>\n",
       "      <td>Quebec City</td>\n",
       "      <td>1877.0</td>\n",
       "      <td>0.0</td>\n",
       "      <td>0.0</td>\n",
       "      <td>1.0</td>\n",
       "    </tr>\n",
       "    <tr>\n",
       "      <th>5261</th>\n",
       "      <td>phillto01</td>\n",
       "      <td>14.0</td>\n",
       "      <td>17.0</td>\n",
       "      <td>0.0</td>\n",
       "      <td>17.0</td>\n",
       "      <td>30.0</td>\n",
       "      <td>NaN</td>\n",
       "      <td>NaN</td>\n",
       "      <td>0.0</td>\n",
       "      <td>NaN</td>\n",
       "      <td>...</td>\n",
       "      <td>NaN</td>\n",
       "      <td>NaN</td>\n",
       "      <td>NaN</td>\n",
       "      <td>Canada</td>\n",
       "      <td>ON</td>\n",
       "      <td>Toronto</td>\n",
       "      <td>1883.0</td>\n",
       "      <td>0.0</td>\n",
       "      <td>0.0</td>\n",
       "      <td>1.0</td>\n",
       "    </tr>\n",
       "    <tr>\n",
       "      <th>5676</th>\n",
       "      <td>robergo02</td>\n",
       "      <td>62.0</td>\n",
       "      <td>79.0</td>\n",
       "      <td>16.0</td>\n",
       "      <td>95.0</td>\n",
       "      <td>82.0</td>\n",
       "      <td>NaN</td>\n",
       "      <td>NaN</td>\n",
       "      <td>0.0</td>\n",
       "      <td>NaN</td>\n",
       "      <td>...</td>\n",
       "      <td>NaN</td>\n",
       "      <td>NaN</td>\n",
       "      <td>NaN</td>\n",
       "      <td>Canada</td>\n",
       "      <td>ON</td>\n",
       "      <td>Ottawa</td>\n",
       "      <td>1891.0</td>\n",
       "      <td>0.0</td>\n",
       "      <td>0.0</td>\n",
       "      <td>1.0</td>\n",
       "    </tr>\n",
       "    <tr>\n",
       "      <th>5749</th>\n",
       "      <td>rossar01</td>\n",
       "      <td>3.0</td>\n",
       "      <td>1.0</td>\n",
       "      <td>0.0</td>\n",
       "      <td>1.0</td>\n",
       "      <td>12.0</td>\n",
       "      <td>NaN</td>\n",
       "      <td>NaN</td>\n",
       "      <td>0.0</td>\n",
       "      <td>NaN</td>\n",
       "      <td>...</td>\n",
       "      <td>1917.0</td>\n",
       "      <td>NaN</td>\n",
       "      <td>NaN</td>\n",
       "      <td>Canada</td>\n",
       "      <td>ON</td>\n",
       "      <td>Naughton</td>\n",
       "      <td>1886.0</td>\n",
       "      <td>0.0</td>\n",
       "      <td>0.0</td>\n",
       "      <td>1.0</td>\n",
       "    </tr>\n",
       "    <tr>\n",
       "      <th>6265</th>\n",
       "      <td>smithto01</td>\n",
       "      <td>10.0</td>\n",
       "      <td>0.0</td>\n",
       "      <td>1.0</td>\n",
       "      <td>1.0</td>\n",
       "      <td>11.0</td>\n",
       "      <td>NaN</td>\n",
       "      <td>NaN</td>\n",
       "      <td>0.0</td>\n",
       "      <td>NaN</td>\n",
       "      <td>...</td>\n",
       "      <td>1919.0</td>\n",
       "      <td>NaN</td>\n",
       "      <td>NaN</td>\n",
       "      <td>Canada</td>\n",
       "      <td>ON</td>\n",
       "      <td>Ottawa</td>\n",
       "      <td>1886.0</td>\n",
       "      <td>0.0</td>\n",
       "      <td>0.0</td>\n",
       "      <td>1.0</td>\n",
       "    </tr>\n",
       "    <tr>\n",
       "      <th>6360</th>\n",
       "      <td>stanlba01</td>\n",
       "      <td>218.0</td>\n",
       "      <td>143.0</td>\n",
       "      <td>73.0</td>\n",
       "      <td>216.0</td>\n",
       "      <td>189.0</td>\n",
       "      <td>NaN</td>\n",
       "      <td>NaN</td>\n",
       "      <td>0.0</td>\n",
       "      <td>NaN</td>\n",
       "      <td>...</td>\n",
       "      <td>1927.0</td>\n",
       "      <td>NaN</td>\n",
       "      <td>NaN</td>\n",
       "      <td>Canada</td>\n",
       "      <td>ON</td>\n",
       "      <td>Paisley</td>\n",
       "      <td>1893.0</td>\n",
       "      <td>0.0</td>\n",
       "      <td>0.0</td>\n",
       "      <td>1.0</td>\n",
       "    </tr>\n",
       "    <tr>\n",
       "      <th>6616</th>\n",
       "      <td>taylocy01</td>\n",
       "      <td>135.0</td>\n",
       "      <td>160.0</td>\n",
       "      <td>103.0</td>\n",
       "      <td>263.0</td>\n",
       "      <td>67.0</td>\n",
       "      <td>NaN</td>\n",
       "      <td>NaN</td>\n",
       "      <td>0.0</td>\n",
       "      <td>NaN</td>\n",
       "      <td>...</td>\n",
       "      <td>NaN</td>\n",
       "      <td>NaN</td>\n",
       "      <td>NaN</td>\n",
       "      <td>Canada</td>\n",
       "      <td>ON</td>\n",
       "      <td>Tara</td>\n",
       "      <td>1884.0</td>\n",
       "      <td>0.0</td>\n",
       "      <td>0.0</td>\n",
       "      <td>1.0</td>\n",
       "    </tr>\n",
       "  </tbody>\n",
       "</table>\n",
       "<p>14 rows × 48 columns</p>\n",
       "</div>"
      ],
      "text/plain": [
       "       playerID     GP      G      A    Pts    PIM  plus_min  PPG  PPA  SHG  \\\n",
       "1704  dundeto01  259.0  196.0   60.0  256.0  485.0       NaN  NaN  0.0  NaN   \n",
       "2139  gardnji01   28.0   11.0    4.0   15.0   70.0       NaN  NaN  0.0  NaN   \n",
       "2409  griffsi01  109.0   38.0   26.0   64.0  137.0       NaN  NaN  0.0  NaN   \n",
       "2959  hylanha01   32.0   40.0    2.0   42.0  108.0       NaN  NaN  0.0  NaN   \n",
       "3127  johnsmo01  185.0   55.0   37.0   92.0  254.0       NaN  NaN  0.0  NaN   \n",
       "3713  lavioja01   18.0    2.0    1.0    3.0    6.0       NaN  NaN  0.0  NaN   \n",
       "3828  lesuepe01  120.0    0.0    0.0    0.0    7.0       NaN  NaN  0.0  NaN   \n",
       "4663  moranpa01  133.0    0.0    0.0    0.0    6.0       NaN  NaN  0.0  NaN   \n",
       "5261  phillto01   14.0   17.0    0.0   17.0   30.0       NaN  NaN  0.0  NaN   \n",
       "5676  robergo02   62.0   79.0   16.0   95.0   82.0       NaN  NaN  0.0  NaN   \n",
       "5749   rossar01    3.0    1.0    0.0    1.0   12.0       NaN  NaN  0.0  NaN   \n",
       "6265  smithto01   10.0    0.0    1.0    1.0   11.0       NaN  NaN  0.0  NaN   \n",
       "6360  stanlba01  218.0  143.0   73.0  216.0  189.0       NaN  NaN  0.0  NaN   \n",
       "6616  taylocy01  135.0  160.0  103.0  263.0   67.0       NaN  NaN  0.0  NaN   \n",
       "\n",
       "          ...       lastNHL  firstWHA  lastWHA  birthCountry  birthState  \\\n",
       "1704      ...           NaN       NaN      NaN     Australia         NaN   \n",
       "2139      ...           NaN       NaN      NaN        Canada          QC   \n",
       "2409      ...           NaN       NaN      NaN           USA          KS   \n",
       "2959      ...        1917.0       NaN      NaN        Canada          QC   \n",
       "3127      ...           NaN       NaN      NaN        Canada          QC   \n",
       "3713      ...        1917.0       NaN      NaN        Canada          ON   \n",
       "3828      ...           NaN       NaN      NaN        Canada          QC   \n",
       "4663      ...           NaN       NaN      NaN        Canada          QC   \n",
       "5261      ...           NaN       NaN      NaN        Canada          ON   \n",
       "5676      ...           NaN       NaN      NaN        Canada          ON   \n",
       "5749      ...        1917.0       NaN      NaN        Canada          ON   \n",
       "6265      ...        1919.0       NaN      NaN        Canada          ON   \n",
       "6360      ...        1927.0       NaN      NaN        Canada          ON   \n",
       "6616      ...           NaN       NaN      NaN        Canada          ON   \n",
       "\n",
       "        birthCity  birthYear  NHL_Years  WHA_Years  Career_Years  \n",
       "1704      Benella     1887.0        0.0        0.0           1.0  \n",
       "2139     Montreal     1881.0        0.0        0.0           1.0  \n",
       "2409        Onaga     1883.0        0.0        0.0           1.0  \n",
       "2959     Montreal     1889.0        0.0        0.0           1.0  \n",
       "3127     Montreal     1886.0        0.0        0.0           1.0  \n",
       "3713   Belleville     1879.0        0.0        0.0           1.0  \n",
       "3828  Quebec City     1881.0        0.0        0.0           1.0  \n",
       "4663  Quebec City     1877.0        0.0        0.0           1.0  \n",
       "5261      Toronto     1883.0        0.0        0.0           1.0  \n",
       "5676       Ottawa     1891.0        0.0        0.0           1.0  \n",
       "5749     Naughton     1886.0        0.0        0.0           1.0  \n",
       "6265       Ottawa     1886.0        0.0        0.0           1.0  \n",
       "6360      Paisley     1893.0        0.0        0.0           1.0  \n",
       "6616         Tara     1884.0        0.0        0.0           1.0  \n",
       "\n",
       "[14 rows x 48 columns]"
      ]
     },
     "execution_count": 166,
     "metadata": {},
     "output_type": "execute_result"
    }
   ],
   "source": [
    "summary[(summary.Career_Years==1) &\n",
    "        (summary.HOF == 1)]"
   ]
  },
  {
   "cell_type": "code",
   "execution_count": 167,
   "metadata": {},
   "outputs": [
    {
     "data": {
      "text/plain": [
       "0    7121\n",
       "1     212\n",
       "Name: HOF, dtype: int64"
      ]
     },
     "execution_count": 167,
     "metadata": {},
     "output_type": "execute_result"
    }
   ],
   "source": [
    "summary.HOF.value_counts()"
   ]
  },
  {
   "cell_type": "markdown",
   "metadata": {},
   "source": [
    "#### Combine First and Last Name ####"
   ]
  },
  {
   "cell_type": "code",
   "execution_count": 168,
   "metadata": {
    "collapsed": true
   },
   "outputs": [],
   "source": [
    "summary['name'] = summary.firstName + ' ' + summary.lastName"
   ]
  },
  {
   "cell_type": "markdown",
   "metadata": {},
   "source": [
    "#### Add Country Representation in HOF as a Variable ####\n",
    "In order to capture the birthplace of a player as a numerical variable, I am creating a column which represents the percentage of the Hall of Fame represented by the player's country of birth (rather than creating dummy variables for every country)."
   ]
  },
  {
   "cell_type": "code",
   "execution_count": 169,
   "metadata": {
    "collapsed": true
   },
   "outputs": [],
   "source": [
    "# Hall of Fame by Country\n",
    "hof_country = summary.groupby(['birthCountry'],as_index=False)['HOF'].sum()\n",
    "all_country = summary.groupby(['birthCountry'],as_index=False)['playerID'].count()\n",
    "\n",
    "country = pd.concat([hof_country,all_country.playerID],axis=1)\n",
    "country.columns = ['birthCountry','HOF_ct','player_ct']\n",
    "country = country[['birthCountry','player_ct','HOF_ct']]\n",
    "country['country_pct'] = country['HOF_ct']/country['player_ct']\n",
    "country_chance = country[['birthCountry','country_pct']]\n",
    "country_chance\n",
    "summary = pd.merge(summary,country_chance,how='outer')"
   ]
  },
  {
   "cell_type": "code",
   "execution_count": 170,
   "metadata": {},
   "outputs": [
    {
     "data": {
      "text/plain": [
       "Index(['playerID', 'GP', 'G', 'A', 'Pts', 'PIM', 'plus_min', 'PPG', 'PPA',\n",
       "       'SHG', 'SHA', 'GWG', 'GTG', 'SOG', 'series_wins', 'won_cup', 'team_pct',\n",
       "       'G_rank', 'A_rank', 'Pts_rank', 'Plusmin_rank', 'SOG_rank', 'G_rank_T',\n",
       "       'A_rank_T', 'Pts_rank_T', 'Plusmin_rank_T', 'SOG_rank_T', 'true_pos',\n",
       "       'HOF', 'FirstYear', 'LastYear', 'award_count', 'firstName', 'lastName',\n",
       "       'height', 'weight', 'shootCatch', 'firstNHL', 'lastNHL', 'firstWHA',\n",
       "       'lastWHA', 'birthCountry', 'birthState', 'birthCity', 'birthYear',\n",
       "       'NHL_Years', 'WHA_Years', 'Career_Years', 'name', 'country_pct'],\n",
       "      dtype='object')"
      ]
     },
     "execution_count": 170,
     "metadata": {},
     "output_type": "execute_result"
    }
   ],
   "source": [
    "summary.columns"
   ]
  },
  {
   "cell_type": "code",
   "execution_count": 171,
   "metadata": {
    "collapsed": true
   },
   "outputs": [],
   "source": [
    "summary['logGP'] = np.log(summary.GP)\n",
    "summary['logCareer_Years'] = np.log(summary.Career_Years)\n",
    "summary.award_count.fillna(0,inplace=True)\n",
    "\n",
    "# create Height/Weight combined indicator\n",
    "# summary['presence'] = summary."
   ]
  },
  {
   "cell_type": "code",
   "execution_count": 172,
   "metadata": {
    "collapsed": true
   },
   "outputs": [],
   "source": [
    "# reorder & filter columns\n",
    "summary = summary[[\n",
    "        'playerID','name','true_pos','shootCatch',\n",
    "        'birthCountry', 'birthState', 'birthCity', 'birthYear',\n",
    "        'GP','G','A','Pts','PIM','plus_min','PPG','PPA','SHG','SHA','GWG', 'GTG', 'SOG', \n",
    "        'logGP','logCareer_Years',\n",
    "        'award_count','series_wins', 'won_cup', 'team_pct', 'country_pct',\n",
    "        'G_rank','A_rank', 'Pts_rank', 'Plusmin_rank', 'SOG_rank', \n",
    "        'G_rank_T','A_rank_T','Pts_rank_T', 'Plusmin_rank_T', 'SOG_rank_T', \n",
    "        'height', 'weight', \n",
    "        'FirstYear', 'LastYear','Career_Years',\n",
    "        'HOF']]"
   ]
  },
  {
   "cell_type": "markdown",
   "metadata": {},
   "source": [
    "### Remove goalies"
   ]
  },
  {
   "cell_type": "code",
   "execution_count": 173,
   "metadata": {
    "collapsed": true
   },
   "outputs": [],
   "source": [
    "summary = summary[summary.true_pos!='G'].reset_index()"
   ]
  },
  {
   "cell_type": "code",
   "execution_count": 174,
   "metadata": {
    "collapsed": true
   },
   "outputs": [],
   "source": [
    "summary[summary.plus_min.isnull()]; #1389 players with no plus/minus"
   ]
  },
  {
   "cell_type": "markdown",
   "metadata": {},
   "source": [
    "### Binarize F/D --> Forward = 1, Defense = 0"
   ]
  },
  {
   "cell_type": "code",
   "execution_count": 175,
   "metadata": {
    "collapsed": true
   },
   "outputs": [],
   "source": [
    "summary.true_pos.replace('F',1,True)\n",
    "summary.true_pos.replace('D',0,True)"
   ]
  },
  {
   "cell_type": "code",
   "execution_count": 176,
   "metadata": {},
   "outputs": [
    {
     "data": {
      "text/plain": [
       "0"
      ]
     },
     "execution_count": 176,
     "metadata": {},
     "output_type": "execute_result"
    }
   ],
   "source": [
    "len(summary[summary.Career_Years==0])\n",
    "# 1504 players with no NHL or WHA data!"
   ]
  },
  {
   "cell_type": "code",
   "execution_count": 177,
   "metadata": {},
   "outputs": [
    {
     "data": {
      "text/plain": [
       "0.028464185173600252"
      ]
     },
     "execution_count": 177,
     "metadata": {},
     "output_type": "execute_result"
    }
   ],
   "source": [
    "HOF_split = summary.HOF.value_counts()\n",
    "HOF_split[1]/HOF_split[0] # class ratio HOF/not_HOF"
   ]
  },
  {
   "cell_type": "code",
   "execution_count": 178,
   "metadata": {
    "collapsed": true
   },
   "outputs": [],
   "source": [
    "hockey = summary.copy()"
   ]
  },
  {
   "cell_type": "code",
   "execution_count": 179,
   "metadata": {},
   "outputs": [],
   "source": [
    "### 2013-2014 Players (for Eligibility)\n",
    "Recent = pd.read_csv(path+'/other_datafiles/NHLPlayers2013-14.csv')\n",
    "allrecent = hockey[hockey.name.isin(Recent.Names)]\n",
    "allrecent = allrecent[['playerID']]\n",
    "allrecent['recent'] = 1\n",
    "hockey = pd.merge(hockey,allrecent,how='outer')\n",
    "hockey.recent.fillna(0,inplace=True)\n",
    "\n",
    "### New HOF inductees since 2011 -- Holdout \n",
    "HOF2 = pd.read_csv(path+'/other_datafiles/HOF2.csv')\n",
    "HOF2 = HOF2[HOF2.Year > 2011] ## Rogie Vachon & Dominik Hasek = Goalies\n",
    "HOF2_names = HOF2.Name\n",
    "new_HOF = hockey[hockey.name.isin(HOF2_names)].copy()\n",
    "new_HOF['new_HOF'] = 1\n",
    "\n",
    "hockey = pd.merge(hockey,new_HOF,how='outer')\n",
    "hockey.new_HOF.fillna(0,inplace=True)\n",
    "\n",
    "## HOF-Eligible Players\n",
    "HOFtable = pd.read_csv(path+'/hockeydb/HOF.csv')\n",
    "HOFtable['playerID'] = [x[:-1] for x in HOFtable['hofID']]\n",
    "HOFtable = HOFtable[HOFtable.category=='Player']\n",
    "HOFtable = HOFtable[['playerID','year']]\n",
    "HOFtable.columns = ['playerID','HOFyear']\n",
    "HOFdelay = pd.merge(hockey[hockey.HOF==1],HOFtable,how='inner')"
   ]
  },
  {
   "cell_type": "code",
   "execution_count": 180,
   "metadata": {},
   "outputs": [],
   "source": [
    "hockey.drop('index',inplace=True,axis=1)\n",
    "hockey2 = summary.dropna(axis=0).copy()"
   ]
  },
  {
   "cell_type": "code",
   "execution_count": 181,
   "metadata": {
    "collapsed": true
   },
   "outputs": [],
   "source": [
    "hockey.to_pickle(path+'/other_datafiles/hockey.csv') # Including NaNs\n",
    "hockey2.to_pickle(path+'/other_datafiles/hockey_filtered.csv') # Excluding NaNs"
   ]
  },
  {
   "cell_type": "markdown",
   "metadata": {},
   "source": [
    "### Data Exploration"
   ]
  },
  {
   "cell_type": "code",
   "execution_count": 182,
   "metadata": {},
   "outputs": [
    {
     "data": {
      "text/plain": [
       "playerID              0\n",
       "name                  2\n",
       "true_pos              0\n",
       "shootCatch          323\n",
       "birthCountry        189\n",
       "birthState         1150\n",
       "birthCity           191\n",
       "birthYear            61\n",
       "GP                    0\n",
       "G                     0\n",
       "A                     0\n",
       "Pts                   0\n",
       "PIM                   0\n",
       "plus_min           1389\n",
       "PPG                1231\n",
       "PPA                   0\n",
       "SHG                1231\n",
       "SHA                   0\n",
       "GWG                1272\n",
       "GTG                   0\n",
       "SOG                1370\n",
       "logGP                 0\n",
       "logCareer_Years       0\n",
       "award_count           0\n",
       "series_wins           0\n",
       "won_cup               0\n",
       "team_pct              0\n",
       "country_pct         189\n",
       "G_rank                0\n",
       "A_rank                0\n",
       "Pts_rank              0\n",
       "Plusmin_rank       1389\n",
       "SOG_rank           1370\n",
       "G_rank_T              0\n",
       "A_rank_T              0\n",
       "Pts_rank_T            0\n",
       "Plusmin_rank_T     1389\n",
       "SOG_rank_T         1370\n",
       "height               71\n",
       "weight               71\n",
       "FirstYear             0\n",
       "LastYear              0\n",
       "Career_Years          0\n",
       "HOF                   0\n",
       "recent                0\n",
       "new_HOF               0\n",
       "dtype: int64"
      ]
     },
     "execution_count": 182,
     "metadata": {},
     "output_type": "execute_result"
    }
   ],
   "source": [
    "hockey.isnull().sum()"
   ]
  },
  {
   "cell_type": "code",
   "execution_count": 183,
   "metadata": {},
   "outputs": [
    {
     "data": {
      "text/html": [
       "<div>\n",
       "<style>\n",
       "    .dataframe thead tr:only-child th {\n",
       "        text-align: right;\n",
       "    }\n",
       "\n",
       "    .dataframe thead th {\n",
       "        text-align: left;\n",
       "    }\n",
       "\n",
       "    .dataframe tbody tr th {\n",
       "        vertical-align: top;\n",
       "    }\n",
       "</style>\n",
       "<table border=\"1\" class=\"dataframe\">\n",
       "  <thead>\n",
       "    <tr style=\"text-align: right;\">\n",
       "      <th></th>\n",
       "      <th>playerID</th>\n",
       "      <th>name</th>\n",
       "      <th>true_pos</th>\n",
       "      <th>shootCatch</th>\n",
       "      <th>birthCountry</th>\n",
       "      <th>birthState</th>\n",
       "      <th>birthCity</th>\n",
       "      <th>birthYear</th>\n",
       "      <th>GP</th>\n",
       "      <th>G</th>\n",
       "      <th>...</th>\n",
       "      <th>Plusmin_rank_T</th>\n",
       "      <th>SOG_rank_T</th>\n",
       "      <th>height</th>\n",
       "      <th>weight</th>\n",
       "      <th>FirstYear</th>\n",
       "      <th>LastYear</th>\n",
       "      <th>Career_Years</th>\n",
       "      <th>HOF</th>\n",
       "      <th>recent</th>\n",
       "      <th>new_HOF</th>\n",
       "    </tr>\n",
       "  </thead>\n",
       "  <tbody>\n",
       "    <tr>\n",
       "      <th>0</th>\n",
       "      <td>aaltoan01</td>\n",
       "      <td>Antti Aalto</td>\n",
       "      <td>1</td>\n",
       "      <td>L</td>\n",
       "      <td>Finland</td>\n",
       "      <td>NaN</td>\n",
       "      <td>Lappeenranta</td>\n",
       "      <td>1975.0</td>\n",
       "      <td>151.0</td>\n",
       "      <td>11.0</td>\n",
       "      <td>...</td>\n",
       "      <td>0.481973</td>\n",
       "      <td>0.383366</td>\n",
       "      <td>73.0</td>\n",
       "      <td>210.0</td>\n",
       "      <td>1997</td>\n",
       "      <td>2000</td>\n",
       "      <td>4.0</td>\n",
       "      <td>0</td>\n",
       "      <td>0.0</td>\n",
       "      <td>0.0</td>\n",
       "    </tr>\n",
       "    <tr>\n",
       "      <th>1</th>\n",
       "      <td>aholape01</td>\n",
       "      <td>Peter Ahola</td>\n",
       "      <td>0</td>\n",
       "      <td>L</td>\n",
       "      <td>Finland</td>\n",
       "      <td>NaN</td>\n",
       "      <td>Espoo</td>\n",
       "      <td>1968.0</td>\n",
       "      <td>123.0</td>\n",
       "      <td>10.0</td>\n",
       "      <td>...</td>\n",
       "      <td>0.550983</td>\n",
       "      <td>0.342509</td>\n",
       "      <td>75.0</td>\n",
       "      <td>205.0</td>\n",
       "      <td>1991</td>\n",
       "      <td>1993</td>\n",
       "      <td>3.0</td>\n",
       "      <td>0</td>\n",
       "      <td>0.0</td>\n",
       "      <td>0.0</td>\n",
       "    </tr>\n",
       "    <tr>\n",
       "      <th>2</th>\n",
       "      <td>alatami01</td>\n",
       "      <td>Mika Alatalo</td>\n",
       "      <td>1</td>\n",
       "      <td>L</td>\n",
       "      <td>Finland</td>\n",
       "      <td>NaN</td>\n",
       "      <td>Oulu</td>\n",
       "      <td>1971.0</td>\n",
       "      <td>152.0</td>\n",
       "      <td>17.0</td>\n",
       "      <td>...</td>\n",
       "      <td>0.435829</td>\n",
       "      <td>0.648173</td>\n",
       "      <td>72.0</td>\n",
       "      <td>202.0</td>\n",
       "      <td>1999</td>\n",
       "      <td>2000</td>\n",
       "      <td>2.0</td>\n",
       "      <td>0</td>\n",
       "      <td>0.0</td>\n",
       "      <td>0.0</td>\n",
       "    </tr>\n",
       "    <tr>\n",
       "      <th>3</th>\n",
       "      <td>bergak01</td>\n",
       "      <td>Aki Berg</td>\n",
       "      <td>0</td>\n",
       "      <td>L</td>\n",
       "      <td>Finland</td>\n",
       "      <td>NaN</td>\n",
       "      <td>Turku</td>\n",
       "      <td>1977.0</td>\n",
       "      <td>606.0</td>\n",
       "      <td>15.0</td>\n",
       "      <td>...</td>\n",
       "      <td>0.402757</td>\n",
       "      <td>0.532301</td>\n",
       "      <td>75.0</td>\n",
       "      <td>213.0</td>\n",
       "      <td>1995</td>\n",
       "      <td>2005</td>\n",
       "      <td>11.0</td>\n",
       "      <td>0</td>\n",
       "      <td>0.0</td>\n",
       "      <td>0.0</td>\n",
       "    </tr>\n",
       "    <tr>\n",
       "      <th>4</th>\n",
       "      <td>bergese01</td>\n",
       "      <td>Sean Bergenheim</td>\n",
       "      <td>1</td>\n",
       "      <td>L</td>\n",
       "      <td>Finland</td>\n",
       "      <td>NaN</td>\n",
       "      <td>Helsinki</td>\n",
       "      <td>1984.0</td>\n",
       "      <td>388.0</td>\n",
       "      <td>71.0</td>\n",
       "      <td>...</td>\n",
       "      <td>0.444182</td>\n",
       "      <td>0.778885</td>\n",
       "      <td>70.0</td>\n",
       "      <td>194.0</td>\n",
       "      <td>2003</td>\n",
       "      <td>2011</td>\n",
       "      <td>9.0</td>\n",
       "      <td>0</td>\n",
       "      <td>1.0</td>\n",
       "      <td>0.0</td>\n",
       "    </tr>\n",
       "  </tbody>\n",
       "</table>\n",
       "<p>5 rows × 46 columns</p>\n",
       "</div>"
      ],
      "text/plain": [
       "    playerID             name  true_pos shootCatch birthCountry birthState  \\\n",
       "0  aaltoan01      Antti Aalto         1          L      Finland        NaN   \n",
       "1  aholape01      Peter Ahola         0          L      Finland        NaN   \n",
       "2  alatami01     Mika Alatalo         1          L      Finland        NaN   \n",
       "3   bergak01         Aki Berg         0          L      Finland        NaN   \n",
       "4  bergese01  Sean Bergenheim         1          L      Finland        NaN   \n",
       "\n",
       "      birthCity  birthYear     GP     G   ...     Plusmin_rank_T  SOG_rank_T  \\\n",
       "0  Lappeenranta     1975.0  151.0  11.0   ...           0.481973    0.383366   \n",
       "1         Espoo     1968.0  123.0  10.0   ...           0.550983    0.342509   \n",
       "2          Oulu     1971.0  152.0  17.0   ...           0.435829    0.648173   \n",
       "3         Turku     1977.0  606.0  15.0   ...           0.402757    0.532301   \n",
       "4      Helsinki     1984.0  388.0  71.0   ...           0.444182    0.778885   \n",
       "\n",
       "   height  weight  FirstYear  LastYear  Career_Years  HOF  recent  new_HOF  \n",
       "0    73.0   210.0       1997      2000           4.0    0     0.0      0.0  \n",
       "1    75.0   205.0       1991      1993           3.0    0     0.0      0.0  \n",
       "2    72.0   202.0       1999      2000           2.0    0     0.0      0.0  \n",
       "3    75.0   213.0       1995      2005          11.0    0     0.0      0.0  \n",
       "4    70.0   194.0       2003      2011           9.0    0     1.0      0.0  \n",
       "\n",
       "[5 rows x 46 columns]"
      ]
     },
     "execution_count": 183,
     "metadata": {},
     "output_type": "execute_result"
    }
   ],
   "source": [
    "hockey.head()"
   ]
  },
  {
   "cell_type": "code",
   "execution_count": 184,
   "metadata": {},
   "outputs": [
    {
     "data": {
      "image/png": "[encoded data removed]",
      "text/plain": [
       "<matplotlib.figure.Figure at 0x11df5a080>"
      ]
     },
     "metadata": {},
     "output_type": "display_data"
    }
   ],
   "source": [
    "# Hall of Fame by Career Length in Games Played\n",
    "HOF_gp = hockey[hockey.HOF==1].GP.sort_values(ascending=False)\n",
    "HOF_gp.hist();"
   ]
  },
  {
   "cell_type": "code",
   "execution_count": 185,
   "metadata": {
    "collapsed": true
   },
   "outputs": [],
   "source": [
    "def plot_distribution( df, var, target, **kwargs):\n",
    "    row = kwargs.get('row', None)\n",
    "    col = kwargs.get('col', None)\n",
    "    facet = sns.FacetGrid(df , hue=target, aspect=3, row=row, col=col)\n",
    "    facet.map(sns.kdeplot, var, shade=True)\n",
    "    facet.set(xlim=(df[var].min() , df[var].max()))\n",
    "    facet.add_legend()"
   ]
  },
  {
   "cell_type": "code",
   "execution_count": 186,
   "metadata": {},
   "outputs": [
    {
     "data": {
      "text/plain": [
       "Index(['playerID', 'name', 'true_pos', 'shootCatch', 'birthCountry',\n",
       "       'birthState', 'birthCity', 'birthYear', 'GP', 'G', 'A', 'Pts', 'PIM',\n",
       "       'plus_min', 'PPG', 'PPA', 'SHG', 'SHA', 'GWG', 'GTG', 'SOG', 'logGP',\n",
       "       'logCareer_Years', 'award_count', 'series_wins', 'won_cup', 'team_pct',\n",
       "       'country_pct', 'G_rank', 'A_rank', 'Pts_rank', 'Plusmin_rank',\n",
       "       'SOG_rank', 'G_rank_T', 'A_rank_T', 'Pts_rank_T', 'Plusmin_rank_T',\n",
       "       'SOG_rank_T', 'height', 'weight', 'FirstYear', 'LastYear',\n",
       "       'Career_Years', 'HOF', 'recent', 'new_HOF'],\n",
       "      dtype='object')"
      ]
     },
     "execution_count": 186,
     "metadata": {},
     "output_type": "execute_result"
    }
   ],
   "source": [
    "hockey.columns"
   ]
  },
  {
   "cell_type": "code",
   "execution_count": 187,
   "metadata": {},
   "outputs": [
    {
     "data": {
      "image/png": "[encoded data removed]",
      "text/plain": [
       "<matplotlib.figure.Figure at 0x11df25a58>"
      ]
     },
     "metadata": {},
     "output_type": "display_data"
    }
   ],
   "source": [
    "plt.scatter(hockey.height,hockey.series_wins);"
   ]
  },
  {
   "cell_type": "code",
   "execution_count": 188,
   "metadata": {},
   "outputs": [
    {
     "data": {
      "image/png": "[encoded data removed]",
      "text/plain": [
       "<matplotlib.figure.Figure at 0x11dadce10>"
      ]
     },
     "metadata": {},
     "output_type": "display_data"
    },
    {
     "data": {
      "image/png": "[encoded data removed]",
      "text/plain": [
       "<matplotlib.figure.Figure at 0x11db3aac8>"
      ]
     },
     "metadata": {},
     "output_type": "display_data"
    },
    {
     "data": {
      "image/png": "[encoded data removed]",
      "text/plain": [
       "<matplotlib.figure.Figure at 0x10e0a3978>"
      ]
     },
     "metadata": {},
     "output_type": "display_data"
    },
    {
     "data": {
      "image/png": "[encoded data removed]",
      "text/plain": [
       "<matplotlib.figure.Figure at 0x118f40518>"
      ]
     },
     "metadata": {},
     "output_type": "display_data"
    },
    {
     "data": {
      "image/png": "[encoded data removed]",
      "text/plain": [
       "<matplotlib.figure.Figure at 0x11df92518>"
      ]
     },
     "metadata": {},
     "output_type": "display_data"
    },
    {
     "data": {
      "image/png": "[encoded data removed]",
      "text/plain": [
       "<matplotlib.figure.Figure at 0x11da60828>"
      ]
     },
     "metadata": {},
     "output_type": "display_data"
    },
    {
     "data": {
      "image/png": "[encoded data removed]",
      "text/plain": [
       "<matplotlib.figure.Figure at 0x11dafefd0>"
      ]
     },
     "metadata": {},
     "output_type": "display_data"
    },
    {
     "data": {
      "image/png": "[encoded data removed]",
      "text/plain": [
       "<matplotlib.figure.Figure at 0x11e04bef0>"
      ]
     },
     "metadata": {},
     "output_type": "display_data"
    }
   ],
   "source": [
    "features_to_plot = ['birthYear','LastYear','FirstYear','Career_Years','GP','award_count','height', 'weight']\n",
    "for feature in features_to_plot:\n",
    "    plot_distribution(hockey, feature, 'HOF');"
   ]
  }
 ],
 "metadata": {
  "kernelspec": {
   "display_name": "Python 3",
   "language": "python",
   "name": "python3"
  },
  "language_info": {
   "codemirror_mode": {
    "name": "ipython",
    "version": 3
   },
   "file_extension": ".py",
   "mimetype": "text/x-python",
   "name": "python",
   "nbconvert_exporter": "python",
   "pygments_lexer": "ipython3",
   "version": "3.6.0"
  }
 },
 "nbformat": 4,
 "nbformat_minor": 2
}
